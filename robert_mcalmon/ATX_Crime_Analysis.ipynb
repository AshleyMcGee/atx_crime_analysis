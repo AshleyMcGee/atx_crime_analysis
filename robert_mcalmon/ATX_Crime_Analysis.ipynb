{
 "cells": [
  {
   "cell_type": "markdown",
   "metadata": {},
   "source": [
    "# Austin, TX Crime Analysis"
   ]
  },
  {
   "cell_type": "code",
   "execution_count": 2,
   "metadata": {},
   "outputs": [],
   "source": [
    "# Dependencies\n",
    "import pandas as pd\n",
    "import numpy as np\n",
    "import matplotlib.pyplot as plt\n",
    "from census import Census\n",
    "import gmaps\n",
    "import requests\n",
    "import json\n",
    "\n",
    "# usefuls.py\n",
    "from usefuls import atx_zip_codes, zipcode_tabulation_area, similar_offense_type\n",
    "\n",
    "# config.py not included on GitHub for obvious reasons\n",
    "from config import gkey, census_key\n",
    "\n",
    "# Configure gmaps\n",
    "gmaps.configure(api_key=gkey)"
   ]
  },
  {
   "cell_type": "markdown",
   "metadata": {},
   "source": [
    "## Get and clean data"
   ]
  },
  {
   "cell_type": "markdown",
   "metadata": {},
   "source": [
    "### Get Property Data from Zillow\n",
    "* The data file is too large to upload to GitHub, but it is obtainable from [here](https://www.kaggle.com/zillow/zecon#Zip_time_series.cs)"
   ]
  },
  {
   "cell_type": "code",
   "execution_count": 3,
   "metadata": {},
   "outputs": [
    {
     "data": {
      "text/html": [
       "<div>\n",
       "<style scoped>\n",
       "    .dataframe tbody tr th:only-of-type {\n",
       "        vertical-align: middle;\n",
       "    }\n",
       "\n",
       "    .dataframe tbody tr th {\n",
       "        vertical-align: top;\n",
       "    }\n",
       "\n",
       "    .dataframe thead th {\n",
       "        text-align: right;\n",
       "    }\n",
       "</style>\n",
       "<table border=\"1\" class=\"dataframe\">\n",
       "  <thead>\n",
       "    <tr style=\"text-align: right;\">\n",
       "      <th></th>\n",
       "      <th></th>\n",
       "      <th>ZHVI_AllHomes</th>\n",
       "    </tr>\n",
       "    <tr>\n",
       "      <th>year</th>\n",
       "      <th>Zip Code</th>\n",
       "      <th></th>\n",
       "    </tr>\n",
       "  </thead>\n",
       "  <tbody>\n",
       "    <tr>\n",
       "      <th rowspan=\"5\" valign=\"top\">2011</th>\n",
       "      <th>78610</th>\n",
       "      <td>167591.67</td>\n",
       "    </tr>\n",
       "    <tr>\n",
       "      <th>78613</th>\n",
       "      <td>182450.00</td>\n",
       "    </tr>\n",
       "    <tr>\n",
       "      <th>78617</th>\n",
       "      <td>104841.67</td>\n",
       "    </tr>\n",
       "    <tr>\n",
       "      <th>78641</th>\n",
       "      <td>143600.00</td>\n",
       "    </tr>\n",
       "    <tr>\n",
       "      <th>78664</th>\n",
       "      <td>130350.00</td>\n",
       "    </tr>\n",
       "  </tbody>\n",
       "</table>\n",
       "</div>"
      ],
      "text/plain": [
       "               ZHVI_AllHomes\n",
       "year Zip Code               \n",
       "2011 78610         167591.67\n",
       "     78613         182450.00\n",
       "     78617         104841.67\n",
       "     78641         143600.00\n",
       "     78664         130350.00"
      ]
     },
     "execution_count": 3,
     "metadata": {},
     "output_type": "execute_result"
    }
   ],
   "source": [
    "# Read the file\n",
    "zillow_df = pd.read_csv('Zip_time_series.csv')\n",
    "\n",
    "# Rename RegionName to zipcode\n",
    "zillow_df = zillow_df.rename(columns={'RegionName': 'Zip Code'})\n",
    "\n",
    "# Filter out all non-Austin area zipcodes\n",
    "zillow_df = zillow_df[[(z in atx_zip_codes) for z in zillow_df['Zip Code']]]\n",
    "\n",
    "# Add year column to dataframe\n",
    "zillow_df['year'] = zillow_df['Date'].apply(lambda s : int(s[:4]))\n",
    "\n",
    "# Filter out all years before 2009\n",
    "zillow_df = zillow_df[(zillow_df['year'] >= 2011) & (zillow_df['year'] <= 2016)]\n",
    "\n",
    "# Keep only the columns we need\n",
    "zillow_df = zillow_df[['year', 'Zip Code', 'ZHVI_AllHomes']]\n",
    "\n",
    "# Drop NaN values\n",
    "zillow_df = zillow_df.dropna()\n",
    "\n",
    "# Group data by year, zipcode, find the mean ZHVI per year per zipcode\n",
    "zillow_df = round(zillow_df.groupby(['year', 'Zip Code']).ZHVI_AllHomes.mean(),2).to_frame()\n",
    "\n",
    "# Write to csv\n",
    "zillow_df.to_csv('zillow_data.csv')\n",
    "\n",
    "# Preview the frame\n",
    "zillow_df.head()"
   ]
  },
  {
   "cell_type": "markdown",
   "metadata": {},
   "source": [
    "### Get Austin Police Department crime data\n",
    "* The csv file used is obtainable from [here](https://data.austintexas.gov/Public-Safety/Crime-Reports/fdj4-gpfu)"
   ]
  },
  {
   "cell_type": "code",
   "execution_count": 4,
   "metadata": {},
   "outputs": [
    {
     "name": "stderr",
     "output_type": "stream",
     "text": [
      "/anaconda3/lib/python3.7/site-packages/IPython/core/interactiveshell.py:3020: DtypeWarning: Columns (16) have mixed types. Specify dtype option on import or set low_memory=False.\n",
      "  interactivity=interactivity, compiler=compiler, result=result)\n"
     ]
    },
    {
     "data": {
      "text/html": [
       "<div>\n",
       "<style scoped>\n",
       "    .dataframe tbody tr th:only-of-type {\n",
       "        vertical-align: middle;\n",
       "    }\n",
       "\n",
       "    .dataframe tbody tr th {\n",
       "        vertical-align: top;\n",
       "    }\n",
       "\n",
       "    .dataframe thead th {\n",
       "        text-align: right;\n",
       "    }\n",
       "</style>\n",
       "<table border=\"1\" class=\"dataframe\">\n",
       "  <thead>\n",
       "    <tr style=\"text-align: right;\">\n",
       "      <th></th>\n",
       "      <th>Zip Code</th>\n",
       "      <th>year</th>\n",
       "      <th>Highest Offense Description</th>\n",
       "    </tr>\n",
       "  </thead>\n",
       "  <tbody>\n",
       "    <tr>\n",
       "      <th>1</th>\n",
       "      <td>78701</td>\n",
       "      <td>2014</td>\n",
       "      <td>Burglary</td>\n",
       "    </tr>\n",
       "    <tr>\n",
       "      <th>2</th>\n",
       "      <td>78702</td>\n",
       "      <td>2015</td>\n",
       "      <td>Other</td>\n",
       "    </tr>\n",
       "    <tr>\n",
       "      <th>5</th>\n",
       "      <td>78759</td>\n",
       "      <td>2015</td>\n",
       "      <td>Motor Vehicle Theft</td>\n",
       "    </tr>\n",
       "    <tr>\n",
       "      <th>6</th>\n",
       "      <td>78741</td>\n",
       "      <td>2013</td>\n",
       "      <td>Burglary</td>\n",
       "    </tr>\n",
       "    <tr>\n",
       "      <th>8</th>\n",
       "      <td>78719</td>\n",
       "      <td>2016</td>\n",
       "      <td>Other</td>\n",
       "    </tr>\n",
       "  </tbody>\n",
       "</table>\n",
       "</div>"
      ],
      "text/plain": [
       "   Zip Code  year Highest Offense Description\n",
       "1     78701  2014                    Burglary\n",
       "2     78702  2015                       Other\n",
       "5     78759  2015         Motor Vehicle Theft\n",
       "6     78741  2013                    Burglary\n",
       "8     78719  2016                       Other"
      ]
     },
     "execution_count": 4,
     "metadata": {},
     "output_type": "execute_result"
    }
   ],
   "source": [
    "crime_df = pd.read_csv('Crime_Reports.csv')\n",
    "\n",
    "# Filter out non greater Austin zip codes\n",
    "crime_df = crime_df[crime_df['Zip Code'].isin(atx_zip_codes)]\n",
    "\n",
    "# Extract only years from date\n",
    "crime_df['year'] = crime_df['Occurred Date'].apply(lambda d : int(d[-4:]))\n",
    "\n",
    "# Drop unnecessary columns\n",
    "crime_df = crime_df[['Zip Code', 'year', 'Highest Offense Description']]\n",
    "\n",
    "# Convert zip codes to integer type\n",
    "crime_df['Zip Code'] = crime_df['Zip Code'].apply(lambda x: int(x))\n",
    "\n",
    "# Combine similar offenses\n",
    "crime_df[\"Highest Offense Description\"] = crime_df[\"Highest Offense Description\"].replace(similar_offense_type)\n",
    "\n",
    "# For year 2018\n",
    "crime2018_df = crime_df[crime_df['year'] == 2018]\n",
    "\n",
    "# Write to csv\n",
    "crime2018_df.to_csv('crime_types_2018.csv', index=False)\n",
    "\n",
    "# Look at only years 2011-2016\n",
    "crime_df = crime_df[(crime_df['year'] >= 2011) & (crime_df['year'] <= 2016)]\n",
    "\n",
    "# Write to csv\n",
    "crime_df.to_csv('crime_data.csv', index=False)\n",
    "\n",
    "# Preview\n",
    "crime_df.head()"
   ]
  },
  {
   "cell_type": "markdown",
   "metadata": {},
   "source": [
    "### Get census data"
   ]
  },
  {
   "cell_type": "code",
   "execution_count": 5,
   "metadata": {},
   "outputs": [
    {
     "data": {
      "text/html": [
       "<div>\n",
       "<style scoped>\n",
       "    .dataframe tbody tr th:only-of-type {\n",
       "        vertical-align: middle;\n",
       "    }\n",
       "\n",
       "    .dataframe tbody tr th {\n",
       "        vertical-align: top;\n",
       "    }\n",
       "\n",
       "    .dataframe thead th {\n",
       "        text-align: right;\n",
       "    }\n",
       "</style>\n",
       "<table border=\"1\" class=\"dataframe\">\n",
       "  <thead>\n",
       "    <tr style=\"text-align: right;\">\n",
       "      <th></th>\n",
       "      <th>Population</th>\n",
       "      <th>year</th>\n",
       "      <th>Zip Code</th>\n",
       "    </tr>\n",
       "  </thead>\n",
       "  <tbody>\n",
       "    <tr>\n",
       "      <th>0</th>\n",
       "      <td>22052</td>\n",
       "      <td>2011</td>\n",
       "      <td>78610</td>\n",
       "    </tr>\n",
       "    <tr>\n",
       "      <th>1</th>\n",
       "      <td>63901</td>\n",
       "      <td>2011</td>\n",
       "      <td>78613</td>\n",
       "    </tr>\n",
       "    <tr>\n",
       "      <th>2</th>\n",
       "      <td>18572</td>\n",
       "      <td>2011</td>\n",
       "      <td>78617</td>\n",
       "    </tr>\n",
       "    <tr>\n",
       "      <th>3</th>\n",
       "      <td>43655</td>\n",
       "      <td>2011</td>\n",
       "      <td>78641</td>\n",
       "    </tr>\n",
       "    <tr>\n",
       "      <th>4</th>\n",
       "      <td>4256</td>\n",
       "      <td>2011</td>\n",
       "      <td>78652</td>\n",
       "    </tr>\n",
       "  </tbody>\n",
       "</table>\n",
       "</div>"
      ],
      "text/plain": [
       "   Population  year  Zip Code\n",
       "0       22052  2011     78610\n",
       "1       63901  2011     78613\n",
       "2       18572  2011     78617\n",
       "3       43655  2011     78641\n",
       "4        4256  2011     78652"
      ]
     },
     "execution_count": 5,
     "metadata": {},
     "output_type": "execute_result"
    }
   ],
   "source": [
    "# Prepare dictionary of census data keyed by year\n",
    "# We use what years are available: 2011 - 2016\n",
    "# 2010 gives geography error; zipcode geography was not supported in that year\n",
    "years = list(range(2011,2017))\n",
    "# Census() results\n",
    "cen = dict.fromkeys(years)\n",
    "# cen.acs5.get() results\n",
    "census_data = dict.fromkeys(years)\n",
    "# Get census data\n",
    "for y in years:\n",
    "    cen[y] = Census(census_key, year=y)\n",
    "    census_data[y] = cen[y].acs5.get((\"B01003_001E\"), {'for': zipcode_tabulation_area})\n",
    "\n",
    "# Add year to each row-to-be\n",
    "for y in years:\n",
    "    for i, l in enumerate(census_data[y]):\n",
    "            census_data[y][i]['year'] = y\n",
    "\n",
    "# Convert census data to one dataframe\n",
    "census_df = pd.DataFrame()\n",
    "for y in years:\n",
    "    census_df = census_df.append(pd.DataFrame(census_data[y]))\n",
    "\n",
    "census_df = census_df.rename(columns={\"B01003_001E\": \"Population\", \"zip code tabulation area\": \"Zip Code\"})\n",
    "# Convert population and Zip Code to integers\n",
    "census_df['Zip Code'] = census_df['Zip Code'].apply(lambda x : int(x))\n",
    "census_df['Population'] = census_df['Population'].apply(lambda x : int(x))\n",
    "\n",
    "# Write to csv\n",
    "census_df.to_csv('census_data.csv', index=False)\n",
    "\n",
    "# Preview\n",
    "census_df.head()"
   ]
  },
  {
   "cell_type": "markdown",
   "metadata": {},
   "source": [
    "## Read above .csv files\n",
    "* This is for development purposes so we don't have to reload and clean raw data files every time"
   ]
  },
  {
   "cell_type": "code",
   "execution_count": null,
   "metadata": {},
   "outputs": [],
   "source": [
    "zillow_df = pd.read_csv('zillow_data.csv')\n",
    "crime_df = pd.read_csv('crime_data.csv')\n",
    "census_df = pd.read_csv('census_data.csv')"
   ]
  },
  {
   "cell_type": "code",
   "execution_count": null,
   "metadata": {},
   "outputs": [],
   "source": [
    "zillow_df.head()"
   ]
  },
  {
   "cell_type": "code",
   "execution_count": null,
   "metadata": {},
   "outputs": [],
   "source": [
    "crime_df.head()"
   ]
  },
  {
   "cell_type": "code",
   "execution_count": null,
   "metadata": {},
   "outputs": [],
   "source": [
    "census_df.head()"
   ]
  },
  {
   "cell_type": "markdown",
   "metadata": {},
   "source": [
    "# Heat map of crime rates per zip code"
   ]
  },
  {
   "cell_type": "markdown",
   "metadata": {},
   "source": [
    "## Step 1: Calculate crime rates\n",
    "* Crimes rates being number of crimes per 100,000 people in a zip code"
   ]
  },
  {
   "cell_type": "code",
   "execution_count": 6,
   "metadata": {},
   "outputs": [
    {
     "data": {
      "text/html": [
       "<div>\n",
       "<style scoped>\n",
       "    .dataframe tbody tr th:only-of-type {\n",
       "        vertical-align: middle;\n",
       "    }\n",
       "\n",
       "    .dataframe tbody tr th {\n",
       "        vertical-align: top;\n",
       "    }\n",
       "\n",
       "    .dataframe thead th {\n",
       "        text-align: right;\n",
       "    }\n",
       "</style>\n",
       "<table border=\"1\" class=\"dataframe\">\n",
       "  <thead>\n",
       "    <tr style=\"text-align: right;\">\n",
       "      <th></th>\n",
       "      <th>year</th>\n",
       "      <th>Zip Code</th>\n",
       "      <th>Reports</th>\n",
       "      <th>Population</th>\n",
       "      <th>Crime Rate</th>\n",
       "    </tr>\n",
       "  </thead>\n",
       "  <tbody>\n",
       "    <tr>\n",
       "      <th>0</th>\n",
       "      <td>2011</td>\n",
       "      <td>78610</td>\n",
       "      <td>7</td>\n",
       "      <td>22052</td>\n",
       "      <td>31.7</td>\n",
       "    </tr>\n",
       "    <tr>\n",
       "      <th>1</th>\n",
       "      <td>2011</td>\n",
       "      <td>78613</td>\n",
       "      <td>449</td>\n",
       "      <td>63901</td>\n",
       "      <td>702.6</td>\n",
       "    </tr>\n",
       "    <tr>\n",
       "      <th>2</th>\n",
       "      <td>2011</td>\n",
       "      <td>78617</td>\n",
       "      <td>1094</td>\n",
       "      <td>18572</td>\n",
       "      <td>5890.6</td>\n",
       "    </tr>\n",
       "    <tr>\n",
       "      <th>3</th>\n",
       "      <td>2011</td>\n",
       "      <td>78652</td>\n",
       "      <td>33</td>\n",
       "      <td>4256</td>\n",
       "      <td>775.4</td>\n",
       "    </tr>\n",
       "    <tr>\n",
       "      <th>4</th>\n",
       "      <td>2011</td>\n",
       "      <td>78653</td>\n",
       "      <td>97</td>\n",
       "      <td>14631</td>\n",
       "      <td>663.0</td>\n",
       "    </tr>\n",
       "  </tbody>\n",
       "</table>\n",
       "</div>"
      ],
      "text/plain": [
       "   year  Zip Code  Reports  Population  Crime Rate\n",
       "0  2011     78610        7       22052        31.7\n",
       "1  2011     78613      449       63901       702.6\n",
       "2  2011     78617     1094       18572      5890.6\n",
       "3  2011     78652       33        4256       775.4\n",
       "4  2011     78653       97       14631       663.0"
      ]
     },
     "execution_count": 6,
     "metadata": {},
     "output_type": "execute_result"
    }
   ],
   "source": [
    "rates_df = crime_df.groupby(['year', 'Zip Code'])['Highest Offense Description'].count().to_frame().rename(columns={'Highest Offense Description' : 'Reports'}).reset_index()\n",
    "\n",
    "rates_df = rates_df.merge(census_df, on=['year', 'Zip Code'])\n",
    "\n",
    "rates_df['Crime Rate'] = round(100_000 * rates_df['Reports'] / rates_df['Population'],1)\n",
    "\n",
    "rates_df.head()"
   ]
  },
  {
   "cell_type": "code",
   "execution_count": 7,
   "metadata": {},
   "outputs": [],
   "source": [
    "rates_df.to_csv('crime_rates.csv', index=False)"
   ]
  },
  {
   "cell_type": "markdown",
   "metadata": {},
   "source": [
    "## Step 2: Get latitude and longitude for each zip code"
   ]
  },
  {
   "cell_type": "code",
   "execution_count": 8,
   "metadata": {},
   "outputs": [],
   "source": [
    "# Set up dictionaries keyed by Austin zip codes\n",
    "# For latitude and longitude, respectively\n",
    "lat = dict.fromkeys(atx_zip_codes)\n",
    "lng = dict.fromkeys(atx_zip_codes)\n",
    "\n",
    "# Make API calls to find out latitude and longitude for each zip code\n",
    "for zipcode in atx_zip_codes:\n",
    "    base_url = 'https://maps.googleapis.com/maps/api/geocode/json?address={0}&key={1}'.format(zipcode, gkey)\n",
    "    # Convert to JSON\n",
    "    response = requests.get(base_url).json()\n",
    "    # Extract lat/lng\n",
    "    lat[zipcode] = response[\"results\"][0][\"geometry\"][\"location\"][\"lat\"]\n",
    "    lng[zipcode] = response[\"results\"][0][\"geometry\"][\"location\"][\"lng\"]\n",
    "\n",
    "# Add columns to dataframe for latitude and longitude\n",
    "rates_df['Lat'] = rates_df['Zip Code'].apply(lambda z : lat[z])\n",
    "rates_df['Lng'] = rates_df['Zip Code'].apply(lambda z : lng[z])"
   ]
  },
  {
   "cell_type": "markdown",
   "metadata": {},
   "source": [
    "## Step 3: Set up and display heat map\n",
    "* Note to self: Cannot get this to work so far. Shelving for now"
   ]
  },
  {
   "cell_type": "code",
   "execution_count": 10,
   "metadata": {},
   "outputs": [],
   "source": [
    "locations = rates_df[[\"Lat\", \"Lng\"]].astype(float)\n",
    "crime_rate = rates_df[\"Crime Rate\"].astype(float)"
   ]
  },
  {
   "cell_type": "code",
   "execution_count": 11,
   "metadata": {},
   "outputs": [
    {
     "data": {
      "application/vnd.jupyter.widget-view+json": {
       "model_id": "9746ce37e68c4c87a719dac42977b7e6",
       "version_major": 2,
       "version_minor": 0
      },
      "text/plain": [
       "Figure(layout=FigureLayout(height='420px'))"
      ]
     },
     "metadata": {},
     "output_type": "display_data"
    }
   ],
   "source": [
    "fig = gmaps.figure()\n",
    "# Create a heat layer\n",
    "crime_zipcode = gmaps.heatmap_layer(locations, weights= crime_rate, \n",
    "                                 dissipating=True, max_intensity=150000,\n",
    "                                 point_radius = 30)\n",
    "\n",
    "# Adjust heat_layer setting to help with heatmap dissipating on zoom\n",
    "crime_zipcode.dissipating = True\n",
    "crime_zipcode.max_intensity = 150000\n",
    "crime_zipcode.point_radius = 30\n",
    "\n",
    "fig.add_layer(crime_zipcode)\n",
    "\n",
    "fig"
   ]
  },
  {
   "cell_type": "code",
   "execution_count": 13,
   "metadata": {},
   "outputs": [
    {
     "data": {
      "application/vnd.jupyter.widget-view+json": {
       "model_id": "e5a596ad77c2496aa22ebfd6187355a5",
       "version_major": 2,
       "version_minor": 0
      },
      "text/plain": [
       "Figure(layout=FigureLayout(height='420px'))"
      ]
     },
     "metadata": {},
     "output_type": "display_data"
    }
   ],
   "source": [
    "crime_count = rates_df[\"Reports\"].tolist()\n",
    "# Create crime symbol layer\n",
    "report_layer = gmaps.symbol_layer(\n",
    "    locations, fill_color='rgba(0, 150, 0, 0.4)',\n",
    "    stroke_color='rgba(0, 0, 150, 0.4)', scale=3, \n",
    "    info_box_content=[f\"Crime Reports: {crime}\" for crime in crime_count]\n",
    ")\n",
    "\n",
    "fig = gmaps.figure()\n",
    "fig.add_layer(report_layer)\n",
    "\n",
    "fig"
   ]
  },
  {
   "cell_type": "code",
   "execution_count": 14,
   "metadata": {},
   "outputs": [
    {
     "data": {
      "application/vnd.jupyter.widget-view+json": {
       "model_id": "cc0910815f9c48a6b4295af4586d827e",
       "version_major": 2,
       "version_minor": 0
      },
      "text/plain": [
       "Figure(layout=FigureLayout(height='420px'))"
      ]
     },
     "metadata": {},
     "output_type": "display_data"
    }
   ],
   "source": [
    "fig = gmaps.figure()\n",
    "\n",
    "fig.add_layer(crime_zipcode)\n",
    "fig.add_layer(report_layer)\n",
    "\n",
    "fig"
   ]
  },
  {
   "cell_type": "markdown",
   "metadata": {},
   "source": [
    "# Percent Changes from 2011-2016"
   ]
  },
  {
   "cell_type": "code",
   "execution_count": null,
   "metadata": {},
   "outputs": [],
   "source": [
    "popcrime_df = pd.read_csv('crime_rates.csv')\n",
    "home_df = pd.read_csv('zillow_data.csv')\n",
    "\n",
    "hmask_2011 = [x == 2011 for x in home_df.year]\n",
    "home_df_2011 = home_df[hmask_2011]\n",
    "\n",
    "hmask_2016 = [x == 2016 for x in home_df.year]\n",
    "home_df_2016 = home_df[hmask_2016]\n",
    "\n",
    "merge_years_home = pd.merge(home_df_2011, home_df_2016, on=\"Zip Code\")\n",
    "\n",
    "merge_years_home['ZHVI_difference'] = merge_years_home['ZHVI_AllHomes_y'] - merge_years_home['ZHVI_AllHomes_x']\n",
    "\n",
    "merge_years_home['ZHVI_percent_change'] = merge_years_home['ZHVI_difference'] / merge_years_home['ZHVI_AllHomes_x'] * 100\n",
    "\n",
    "merge_years_home['ZHVI_percent_change'] = merge_years_home['ZHVI_percent_change'].round(2)\n",
    "\n",
    "pcmask_2011 = [x == 2011 for x in popcrime_df.year]\n",
    "popcrime_df_2011 = popcrime_df[pcmask_2011]\n",
    "\n",
    "pcmask_2016 = [x == 2016 for x in popcrime_df.year]\n",
    "popcrime_df_2016 = popcrime_df[pcmask_2016]\n",
    "\n",
    "popcrime_df_2011 = popcrime_df_2011.drop(['Crime Rate'], axis=1)\n",
    "\n",
    "popcrime_df_2016 = popcrime_df_2016.drop(['Crime Rate'], axis=1)\n",
    "\n",
    "merge_years_popcrime = pd.merge(popcrime_df_2011, popcrime_df_2016, on=\"Zip Code\")\n",
    "\n",
    "merge_years_popcrime['population_difference'] = merge_years_popcrime['Population_y'] - merge_years_popcrime['Population_x']\n",
    "\n",
    "merge_years_popcrime['#_of_crimes_difference'] = merge_years_popcrime['Reports_y'] - merge_years_popcrime['Reports_x']\n",
    "\n",
    "merge_years_popcrime['population_percent_change'] = merge_years_popcrime['population_difference'] / merge_years_popcrime['Population_x'] * 100\n",
    "\n",
    "merge_years_popcrime['population_percent_change'] = merge_years_popcrime['population_percent_change'].round(2)\n",
    "\n",
    "merge_years_popcrime['crimes_percent_change'] = merge_years_popcrime['#_of_crimes_difference'] / merge_years_popcrime['Reports_x'] * 100\n",
    "\n",
    "merge_years_popcrime['crimes_percent_change'] = merge_years_popcrime['crimes_percent_change'].round(2)\n",
    "\n",
    "merge_years_popcrimecost = pd.merge(merge_years_popcrime, merge_years_home, on=\"Zip Code\")\n",
    "\n",
    "x_axis_1 = []\n",
    "counter = 1\n",
    "for i in range(0,37,1):\n",
    "    x_axis_1.append(counter)\n",
    "    counter += 4\n",
    "\n",
    "x_axis_2 = []\n",
    "counter = 2\n",
    "for i in range(0,37,1):\n",
    "    x_axis_2.append(counter)\n",
    "    counter += 4\n",
    "\n",
    "x_axis_3 = []\n",
    "counter = 3\n",
    "for i in range(0,37,1):\n",
    "    x_axis_3.append(counter)\n",
    "    counter += 4\n",
    "\n",
    "ticks = []\n",
    "counter = 4\n",
    "for i in range(0,37,1):\n",
    "    ticks.append(counter)\n",
    "    counter += 4\n",
    "\n",
    "perc_change_cost = merge_years_popcrimecost['ZHVI_percent_change']\n",
    "perc_change_pop = merge_years_popcrimecost['population_percent_change']\n",
    "perc_change_crime = merge_years_popcrimecost['crimes_percent_change']\n",
    "\n",
    "zip_code_all = merge_years_popcrimecost['Zip Code']\n",
    "\n",
    "# Create bars\n",
    "plt.bar(x_axis_1, perc_change_cost, color='orange', alpha=1, label=\"Home Cost\")\n",
    "plt.bar(x_axis_2, perc_change_pop, color='blue', alpha=1, label=\"Population\")\n",
    "plt.bar(x_axis_3, perc_change_crime, color='olive', alpha=1, label=\"Crime\")\n",
    " \n",
    "# Create names on the x-axis\n",
    "plt.xticks(ticks, zip_code_all, rotation=45)\n",
    "plt.xlabel(\"Austin, TX Zip Codes\")\n",
    "plt.ylabel(\"Percent Change from 2011-2016 (%)\")\n",
    "plt.title(\"Percent Change of Population, Crimes, and Median Home Cost by Austin, TX Zip Code (2011-2016)\")\n",
    "plt.legend()\n",
    "\n",
    "plt.axhline(0, color='black', linewidth=2)\n",
    "plt.grid(axis='x')\n",
    "\n",
    "fig = plt.gcf()\n",
    "fig.set_size_inches(15,7)\n",
    "\n",
    "plt.savefig('popcrimecostpercentchangeBARTEST.png')\n",
    "# Show graphic\n",
    "plt.show()"
   ]
  },
  {
   "cell_type": "markdown",
   "metadata": {},
   "source": [
    "Overall, population and median home cost in Austin increased between 2011 and 2016.\n",
    "There appears to be similarities in the rate of increase for both population and median home cost.\n",
    "Overall, crime decreased across most of the Austin zip codes.\n",
    "There is no visibile relationship between the crime and the median home cost"
   ]
  },
  {
   "cell_type": "markdown",
   "metadata": {},
   "source": [
    "# Types of Crime in 2018"
   ]
  },
  {
   "cell_type": "code",
   "execution_count": null,
   "metadata": {},
   "outputs": [],
   "source": [
    "crime2018_df = pd.read_csv('crime_types_2018.csv')\n",
    "\n",
    "crime_type = crime2018_df.groupby(['Zip Code', 'Highest Offense Description'])['year'].count().to_frame().rename(columns={'year': 'Reports'}).reset_index()\n",
    "\n",
    "#Start of Variables\n",
    "\n",
    "#Aggravated Assault\n",
    "agg_aslt = crime_type[crime_type['Highest Offense Description'] == 'Aggravated Assault']\n",
    "agg_reports = agg_aslt[\"Reports\"]\n",
    "agg_aslt_zips = agg_aslt[\"Zip Code\"]\n",
    "\n",
    "#Theft\n",
    "theft = crime_type[crime_type['Highest Offense Description'] == 'Theft']\n",
    "theft_reports = theft[\"Reports\"]\n",
    "theft_zips = theft[\"Zip Code\"]\n",
    "\n",
    "#Sexual Assault\n",
    "sex_assault = crime_type[crime_type['Highest Offense Description'] == 'Sexual Assault']\n",
    "sex_assault_reports = sex_assault[\"Reports\"]\n",
    "sex_aslt_zips = sex_assault[\"Zip Code\"]\n",
    "\n",
    "#Burglary\n",
    "burglary = crime_type[crime_type['Highest Offense Description'] == 'Burglary']\n",
    "burglary_reports = burglary[\"Reports\"]\n",
    "burglary_zips = burglary[\"Zip Code\"]\n",
    "\n",
    "#Motor Vehicle Theft\n",
    "mv_theft = crime_type[crime_type['Highest Offense Description'] == 'Motor Vehicle Theft']\n",
    "mv_theft_reports = mv_theft[\"Reports\"]\n",
    "mv_theft_zips = mv_theft[\"Zip Code\"]\n",
    "\n",
    "#Robbery\n",
    "robbery = crime_type[crime_type['Highest Offense Description'] == 'Robbery']\n",
    "robbery_reports = robbery[\"Reports\"]\n",
    "robbery_zips = robbery[\"Zip Code\"]\n",
    "\n",
    "#Arson\n",
    "arson = crime_type[crime_type['Highest Offense Description'] == 'Arson']\n",
    "arson_reports = arson[\"Reports\"]\n",
    "arson_zips = arson[\"Zip Code\"]\n",
    "\n",
    "#Murder\n",
    "murder = crime_type[crime_type['Highest Offense Description'] == 'Murder']\n",
    "murder_reports = murder[\"Reports\"]\n",
    "murder_zips = murder[\"Zip Code\"]\n",
    "\n",
    "#Manslaughter\n",
    "manslaughter = crime_type[crime_type['Highest Offense Description'] == 'Manslaughter']\n",
    "manslaughter_reports = manslaughter[\"Reports\"]\n",
    "manslaughter_zips = manslaughter[\"Zip Code\"]\n",
    "\n",
    "plt.scatter(agg_aslt_zips, agg_reports, facecolor='blue', edgecolor='black', alpha= 0.5, s=agg_aslt[\"Reports\"], label=\"Aggravated Assault\")\n",
    "plt.scatter(sex_aslt_zips, sex_assault_reports, facecolor='red', edgecolor='black', alpha= 0.5, s=sex_assault[\"Reports\"], label=\"Sexual Assault\")\n",
    "plt.scatter(murder_zips, murder_reports, facecolor='orange', edgecolor='black', alpha=0.5, s=murder[\"Reports\"], label=\"Murder\")\n",
    "plt.scatter(manslaughter_zips, manslaughter_reports, facecolor='yellow', edgecolor='black', alpha=0.5, s=manslaughter[\"Reports\"], label=\"Manslaughter\")\n",
    "plt.scatter(arson_zips, arson_reports, facecolor='green', edgecolor='black', alpha=0.5, s=arson[\"Reports\"], label=\"Arson\")\n",
    "plt.xlabel(\"Zip Codes\")\n",
    "plt.ylabel(\"Number of Reported Crimes\")\n",
    "plt.title(\"Violent Crime Types Reported in 2018\")\n",
    "lgnd = plt.legend(title=\"Crime\")\n",
    "lgnd.legendHandles[0]._sizes = [40]\n",
    "lgnd.legendHandles[1]._sizes = [40]\n",
    "lgnd.legendHandles[2]._sizes = [40]\n",
    "lgnd.legendHandles[3]._sizes = [40]\n",
    "lgnd.legendHandles[4]._sizes = [40]\n",
    "fig = plt.gcf()\n",
    "fig.set_size_inches(15,7)\n",
    "plt.savefig(\"violent_crimes.png\")\n",
    "plt.show()"
   ]
  },
  {
   "cell_type": "markdown",
   "metadata": {},
   "source": [
    "According to our crime types dataset compilation, violent crime types in the Austin area are broken down into a high-level overview of offenses: Aggravated Assault, Sexual Assault, Murder, and Manslaughter. Aggravated Assault is an umbrella term used by the city to include such reported crimes as assault with a deadly weapon, verbal assault, assault of a minor, among others. Sexual Assault is also an umbrella term, as it encompasses sexual assault by a known contact or family member, sexual assault of a minor, and aggravated sexual assault.\n",
    "\n",
    "Notice the low number of reports of sexual assault by zip code. In 43 zip codes, only 1140 reports of sexual assault were made in 2018. According to RAINN 25 Years (https://www.rainn.org/statistics/criminal-justice-system), only 230 sexual assaults in 1,000 will be reported nationally. This is number likely comes from the lumping in of all sexual assault cases as well as the likelihood that this is not a fully accurate measure of actual sexual assaults reported, since only the sexual assaults that are reported can be tracked.\n",
    "\n",
    "In 2018, only 6 reports of manslaughter were made in 6 zip codes, but the occurrence of murder is a little higher. Manslaughter is again a cumulative term, encompassing drunken driving, reckless driving, and criminal negligence, among others. There were 64 instances of arson, but they are spread out, with 21 occurring over the zip codes comprising South East to South West Austin. 6 reports of arson were made in the 78701. In a grand scale of crimes, arson lists fairly low despite being classified as a violent crime."
   ]
  },
  {
   "cell_type": "code",
   "execution_count": null,
   "metadata": {},
   "outputs": [],
   "source": [
    "plt.scatter(theft_zips, theft_reports, facecolor='blue', edgecolor='black', alpha= 0.5, s=theft[\"Reports\"], label=\"Theft\")\n",
    "plt.scatter(mv_theft_zips, mv_theft_reports, facecolor='red', edgecolor='black', alpha= 0.5, s=mv_theft[\"Reports\"], label=\"Motor Vehicle Theft\")\n",
    "plt.scatter(burglary_zips, burglary_reports, facecolor='orange', edgecolor='black', alpha=0.5, s=burglary[\"Reports\"], label=\"Burglary\")\n",
    "plt.scatter(robbery_zips, robbery_reports, facecolor='yellow', edgecolor='black', alpha=0.5, s=robbery[\"Reports\"], label=\"Robbery\")\n",
    "plt.xlabel(\"Zip Codes\")\n",
    "plt.ylabel(\"Number of Reported Crimes\")\n",
    "plt.title(\"Social Crime Types Reported in 2018\")\n",
    "lgnd = plt.legend(title=\"Crime\")\n",
    "lgnd.legendHandles[0]._sizes = [40]\n",
    "lgnd.legendHandles[1]._sizes = [40]\n",
    "lgnd.legendHandles[2]._sizes = [40]\n",
    "lgnd.legendHandles[3]._sizes = [40]\n",
    "fig = plt.gcf()\n",
    "fig.set_size_inches(15,7)\n",
    "plt.savefig(\"nonviolent_crimes.png\")\n",
    "plt.show()"
   ]
  },
  {
   "cell_type": "markdown",
   "metadata": {},
   "source": [
    "Social crimes have also been boiled down to the major four: Theft, Theft of Motor Vehicle (read as grand theft auto instead of burglary of a vehicle), Burglary, and Robbery. Robbery and Burglary are differentiated, as robbery leans towards an aggravated or violent crime, where burglary is a crime of stealth in which only property is affected.\n",
    "\n",
    "Notice the trend towards higher reported instances of each crime type that begins at 78700, the literal beginning of the city proper (not the city limits), as the zip codes before that grouping occur further out into the suburbs. For example, 78620 is Dripping Springs. Extrapolated a few zip codes and noted that there are 254 instances theft in 78613, which is Cedar Park, a zip code spanning Williamson County with a population of over 48,000 people. Given that we have calculated a 14% correlation between population size and crime rate, it stands to reason that population density has no real effect on the amount of crime occurring in a given area."
   ]
  },
  {
   "cell_type": "markdown",
   "metadata": {},
   "source": [
    "# Population vs Crime"
   ]
  },
  {
   "cell_type": "code",
   "execution_count": null,
   "metadata": {},
   "outputs": [],
   "source": [
    "rates_df = pd.read_csv('crime_rates.csv')"
   ]
  },
  {
   "cell_type": "code",
   "execution_count": null,
   "metadata": {},
   "outputs": [],
   "source": [
    "zillow_file = zillow_df.merge(rates_df, on=['year', 'Zip Code'])"
   ]
  },
  {
   "cell_type": "code",
   "execution_count": null,
   "metadata": {},
   "outputs": [],
   "source": [
    "zillow_file = zillow_file[zillow_file['year'] == 2016].drop(labels='year', axis=1)"
   ]
  },
  {
   "cell_type": "code",
   "execution_count": null,
   "metadata": {},
   "outputs": [],
   "source": [
    "zillow_new"
   ]
  },
  {
   "cell_type": "code",
   "execution_count": null,
   "metadata": {},
   "outputs": [],
   "source": [
    "zillow_new= zillow_new.sort_values(['ZHVI_AllHomes'], ascending=[True])"
   ]
  },
  {
   "cell_type": "code",
   "execution_count": null,
   "metadata": {},
   "outputs": [],
   "source": [
    "ax1 = zillow_new.plot('Zip Code','ZHVI_AllHomes',kind='bar', color = 'y',figsize=(30, 10))\n",
    "zillow_new.plot('Zip Code','Crime Rate',kind='line', style =['bs-'], secondary_y=True, ax=ax1)\n",
    "ax1.set_ylabel('Median Home Value ($)', fontsize=10)\n",
    "plt.ylabel('# of Crimes per 100k people', fontsize=12, rotation=-90)\n",
    "plt.title(\"Crime Rate and Median Home Value by Zip Code (2016)\", fontsize=14)\n",
    "# plt.savefig('idk.png', bbox_inches='tight')\n",
    "fig = plt.figure()"
   ]
  },
  {
   "cell_type": "code",
   "execution_count": null,
   "metadata": {},
   "outputs": [],
   "source": []
  }
 ],
 "metadata": {
  "kernelspec": {
   "display_name": "Python 3",
   "language": "python",
   "name": "python3"
  },
  "language_info": {
   "codemirror_mode": {
    "name": "ipython",
    "version": 3
   },
   "file_extension": ".py",
   "mimetype": "text/x-python",
   "name": "python",
   "nbconvert_exporter": "python",
   "pygments_lexer": "ipython3",
   "version": "3.7.1"
  }
 },
 "nbformat": 4,
 "nbformat_minor": 2
}
