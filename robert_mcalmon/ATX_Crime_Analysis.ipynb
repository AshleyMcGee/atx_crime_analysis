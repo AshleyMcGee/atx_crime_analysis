{
 "cells": [
  {
   "cell_type": "markdown",
   "metadata": {},
   "source": [
    "# Austin, TX Crime Analysis"
   ]
  },
  {
   "cell_type": "code",
   "execution_count": 1,
   "metadata": {},
   "outputs": [],
   "source": [
    "# Dependencies\n",
    "import pandas as pd\n",
    "import numpy as np\n",
    "import matplotlib.pyplot as plt\n",
    "from census import Census\n",
    "import gmaps\n",
    "import requests\n",
    "import json\n",
    "\n",
    "%matplotlib inline\n",
    "\n",
    "# usefuls.py\n",
    "from usefuls import atx_zip_codes, zipcode_tabulation_area, similar_offense_type\n",
    "\n",
    "# config.py not included on GitHub for obvious reasons\n",
    "from config import gkey, census_key\n",
    "\n",
    "# Configure gmaps\n",
    "gmaps.configure(api_key=gkey)"
   ]
  },
  {
   "cell_type": "markdown",
   "metadata": {},
   "source": [
    "## Get and clean data"
   ]
  },
  {
   "cell_type": "markdown",
   "metadata": {},
   "source": [
    "### Get Property Data from Zillow\n",
    "* The data file is too large to upload to GitHub, but it is obtainable from [here](https://www.kaggle.com/zillow/zecon#Zip_time_series.cs)"
   ]
  },
  {
   "cell_type": "code",
   "execution_count": null,
   "metadata": {},
   "outputs": [],
   "source": [
    "# Read the file\n",
    "zillow_df = pd.read_csv('Zip_time_series.csv')\n",
    "\n",
    "# Rename RegionName to zipcode\n",
    "zillow_df = zillow_df.rename(columns={'RegionName': 'Zip Code'})\n",
    "\n",
    "# Filter out all non-Austin area zipcodes\n",
    "zillow_df = zillow_df[[(z in atx_zip_codes) for z in zillow_df['Zip Code']]]\n",
    "\n",
    "# Add year column to dataframe\n",
    "zillow_df['year'] = zillow_df['Date'].apply(lambda s : int(s[:4]))\n",
    "\n",
    "# Filter out all years before 2009\n",
    "zillow_df = zillow_df[(zillow_df['year'] >= 2011) & (zillow_df['year'] <= 2016)]\n",
    "\n",
    "# Keep only the columns we need\n",
    "zillow_df = zillow_df[['year', 'Zip Code', 'ZHVI_AllHomes']]\n",
    "\n",
    "# Drop NaN values\n",
    "zillow_df = zillow_df.dropna()\n",
    "\n",
    "# Group data by year, zipcode, find the mean ZHVI per year per zipcode\n",
    "zillow_df = round(zillow_df.groupby(['year', 'Zip Code']).ZHVI_AllHomes.mean(),2).to_frame()\n",
    "\n",
    "# Write to csv\n",
    "zillow_df.to_csv('zillow_data.csv')\n",
    "\n",
    "# Preview the frame\n",
    "zillow_df.head()"
   ]
  },
  {
   "cell_type": "markdown",
   "metadata": {},
   "source": [
    "### Get Austin Police Department crime data\n",
    "* The csv file used is obtainable from [here](https://data.austintexas.gov/Public-Safety/Crime-Reports/fdj4-gpfu)"
   ]
  },
  {
   "cell_type": "code",
   "execution_count": null,
   "metadata": {},
   "outputs": [],
   "source": [
    "crime_df = pd.read_csv('Crime_Reports.csv')\n",
    "\n",
    "# Filter out non greater Austin zip codes\n",
    "crime_df = crime_df[crime_df['Zip Code'].isin(atx_zip_codes)]\n",
    "\n",
    "# Extract only years from date\n",
    "crime_df['year'] = crime_df['Occurred Date'].apply(lambda d : int(d[-4:]))\n",
    "\n",
    "# Drop unnecessary columns\n",
    "crime_df = crime_df[['Zip Code', 'year', 'Highest Offense Description']]\n",
    "\n",
    "# Look at only years 2011-2016\n",
    "crime_df = crime_df[(crime_df['year'] >= 2011) & (crime_df['year'] <= 2016)]\n",
    "\n",
    "# Convert zip codes to integer type\n",
    "crime_df['Zip Code'] = crime_df['Zip Code'].apply(lambda x: int(x))\n",
    "\n",
    "# Combine similar offenses\n",
    "crime_df[\"Highest Offense Description\"] = crime_df[\"Highest Offense Description\"].replace(similar_offense_type)\n",
    "\n",
    "# Write to csv\n",
    "crime_df.to_csv('crime_data.csv', index=False)\n",
    "\n",
    "# Preview\n",
    "crime_df.head()"
   ]
  },
  {
   "cell_type": "markdown",
   "metadata": {},
   "source": [
    "### Get census data"
   ]
  },
  {
   "cell_type": "code",
   "execution_count": null,
   "metadata": {},
   "outputs": [],
   "source": [
    "# Prepare dictionary of census data keyed by year\n",
    "# We use what years are available: 2011 - 2016\n",
    "# 2010 gives geography error; zipcode geography was not supported in that year\n",
    "years = list(range(2011,2017))\n",
    "# Census() results\n",
    "cen = dict.fromkeys(years)\n",
    "# cen.acs5.get() results\n",
    "census_data = dict.fromkeys(years)\n",
    "# Get census data\n",
    "for y in years:\n",
    "    cen[y] = Census(census_key, year=y)\n",
    "    census_data[y] = cen[y].acs5.get((\"B01003_001E\"), {'for': zipcode_tabulation_area})\n",
    "\n",
    "# Add year to each row-to-be\n",
    "for y in years:\n",
    "    for i, l in enumerate(census_data[y]):\n",
    "            census_data[y][i]['year'] = y\n",
    "\n",
    "# Convert census data to one dataframe\n",
    "census_df = pd.DataFrame()\n",
    "for y in years:\n",
    "    census_df = census_df.append(pd.DataFrame(census_data[y]))\n",
    "\n",
    "census_df = census_df.rename(columns={\"B01003_001E\": \"Population\", \"zip code tabulation area\": \"Zip Code\"})\n",
    "# Convert population and Zip Code to integers\n",
    "census_df['Zip Code'] = census_df['Zip Code'].apply(lambda x : int(x))\n",
    "census_df['Population'] = census_df['Population'].apply(lambda x : int(x))\n",
    "\n",
    "# Write to csv\n",
    "census_df.to_csv('census_data.csv', index=False)\n",
    "\n",
    "# Preview\n",
    "census_df.head()"
   ]
  },
  {
   "cell_type": "markdown",
   "metadata": {},
   "source": [
    "## Read above .csv files\n",
    "* This is for development purposes so we don't have to reload and clean raw data files every time"
   ]
  },
  {
   "cell_type": "code",
   "execution_count": 2,
   "metadata": {},
   "outputs": [],
   "source": [
    "zillow_df = pd.read_csv('zillow_data.csv')\n",
    "crime_df = pd.read_csv('crime_data.csv')\n",
    "census_df = pd.read_csv('census_data.csv')"
   ]
  },
  {
   "cell_type": "code",
   "execution_count": 3,
   "metadata": {},
   "outputs": [
    {
     "data": {
      "text/html": [
       "<div>\n",
       "<style scoped>\n",
       "    .dataframe tbody tr th:only-of-type {\n",
       "        vertical-align: middle;\n",
       "    }\n",
       "\n",
       "    .dataframe tbody tr th {\n",
       "        vertical-align: top;\n",
       "    }\n",
       "\n",
       "    .dataframe thead th {\n",
       "        text-align: right;\n",
       "    }\n",
       "</style>\n",
       "<table border=\"1\" class=\"dataframe\">\n",
       "  <thead>\n",
       "    <tr style=\"text-align: right;\">\n",
       "      <th></th>\n",
       "      <th>year</th>\n",
       "      <th>Zip Code</th>\n",
       "      <th>ZHVI_AllHomes</th>\n",
       "    </tr>\n",
       "  </thead>\n",
       "  <tbody>\n",
       "    <tr>\n",
       "      <th>0</th>\n",
       "      <td>2011</td>\n",
       "      <td>78610</td>\n",
       "      <td>167591.67</td>\n",
       "    </tr>\n",
       "    <tr>\n",
       "      <th>1</th>\n",
       "      <td>2011</td>\n",
       "      <td>78613</td>\n",
       "      <td>182450.00</td>\n",
       "    </tr>\n",
       "    <tr>\n",
       "      <th>2</th>\n",
       "      <td>2011</td>\n",
       "      <td>78617</td>\n",
       "      <td>104841.67</td>\n",
       "    </tr>\n",
       "    <tr>\n",
       "      <th>3</th>\n",
       "      <td>2011</td>\n",
       "      <td>78641</td>\n",
       "      <td>143600.00</td>\n",
       "    </tr>\n",
       "    <tr>\n",
       "      <th>4</th>\n",
       "      <td>2011</td>\n",
       "      <td>78664</td>\n",
       "      <td>130350.00</td>\n",
       "    </tr>\n",
       "  </tbody>\n",
       "</table>\n",
       "</div>"
      ],
      "text/plain": [
       "   year  Zip Code  ZHVI_AllHomes\n",
       "0  2011     78610      167591.67\n",
       "1  2011     78613      182450.00\n",
       "2  2011     78617      104841.67\n",
       "3  2011     78641      143600.00\n",
       "4  2011     78664      130350.00"
      ]
     },
     "execution_count": 3,
     "metadata": {},
     "output_type": "execute_result"
    }
   ],
   "source": [
    "zillow_df.head()"
   ]
  },
  {
   "cell_type": "code",
   "execution_count": 4,
   "metadata": {},
   "outputs": [
    {
     "data": {
      "text/html": [
       "<div>\n",
       "<style scoped>\n",
       "    .dataframe tbody tr th:only-of-type {\n",
       "        vertical-align: middle;\n",
       "    }\n",
       "\n",
       "    .dataframe tbody tr th {\n",
       "        vertical-align: top;\n",
       "    }\n",
       "\n",
       "    .dataframe thead th {\n",
       "        text-align: right;\n",
       "    }\n",
       "</style>\n",
       "<table border=\"1\" class=\"dataframe\">\n",
       "  <thead>\n",
       "    <tr style=\"text-align: right;\">\n",
       "      <th></th>\n",
       "      <th>Zip Code</th>\n",
       "      <th>year</th>\n",
       "      <th>Highest Offense Description</th>\n",
       "    </tr>\n",
       "  </thead>\n",
       "  <tbody>\n",
       "    <tr>\n",
       "      <th>0</th>\n",
       "      <td>78701</td>\n",
       "      <td>2014</td>\n",
       "      <td>Burglary</td>\n",
       "    </tr>\n",
       "    <tr>\n",
       "      <th>1</th>\n",
       "      <td>78702</td>\n",
       "      <td>2015</td>\n",
       "      <td>Other</td>\n",
       "    </tr>\n",
       "    <tr>\n",
       "      <th>2</th>\n",
       "      <td>78759</td>\n",
       "      <td>2015</td>\n",
       "      <td>Motor Vehicle Theft</td>\n",
       "    </tr>\n",
       "    <tr>\n",
       "      <th>3</th>\n",
       "      <td>78741</td>\n",
       "      <td>2013</td>\n",
       "      <td>Burglary</td>\n",
       "    </tr>\n",
       "    <tr>\n",
       "      <th>4</th>\n",
       "      <td>78719</td>\n",
       "      <td>2016</td>\n",
       "      <td>Other</td>\n",
       "    </tr>\n",
       "  </tbody>\n",
       "</table>\n",
       "</div>"
      ],
      "text/plain": [
       "   Zip Code  year Highest Offense Description\n",
       "0     78701  2014                    Burglary\n",
       "1     78702  2015                       Other\n",
       "2     78759  2015         Motor Vehicle Theft\n",
       "3     78741  2013                    Burglary\n",
       "4     78719  2016                       Other"
      ]
     },
     "execution_count": 4,
     "metadata": {},
     "output_type": "execute_result"
    }
   ],
   "source": [
    "crime_df.head()"
   ]
  },
  {
   "cell_type": "code",
   "execution_count": 5,
   "metadata": {},
   "outputs": [
    {
     "data": {
      "text/html": [
       "<div>\n",
       "<style scoped>\n",
       "    .dataframe tbody tr th:only-of-type {\n",
       "        vertical-align: middle;\n",
       "    }\n",
       "\n",
       "    .dataframe tbody tr th {\n",
       "        vertical-align: top;\n",
       "    }\n",
       "\n",
       "    .dataframe thead th {\n",
       "        text-align: right;\n",
       "    }\n",
       "</style>\n",
       "<table border=\"1\" class=\"dataframe\">\n",
       "  <thead>\n",
       "    <tr style=\"text-align: right;\">\n",
       "      <th></th>\n",
       "      <th>Population</th>\n",
       "      <th>year</th>\n",
       "      <th>Zip Code</th>\n",
       "    </tr>\n",
       "  </thead>\n",
       "  <tbody>\n",
       "    <tr>\n",
       "      <th>0</th>\n",
       "      <td>22052</td>\n",
       "      <td>2011</td>\n",
       "      <td>78610</td>\n",
       "    </tr>\n",
       "    <tr>\n",
       "      <th>1</th>\n",
       "      <td>63901</td>\n",
       "      <td>2011</td>\n",
       "      <td>78613</td>\n",
       "    </tr>\n",
       "    <tr>\n",
       "      <th>2</th>\n",
       "      <td>18572</td>\n",
       "      <td>2011</td>\n",
       "      <td>78617</td>\n",
       "    </tr>\n",
       "    <tr>\n",
       "      <th>3</th>\n",
       "      <td>43655</td>\n",
       "      <td>2011</td>\n",
       "      <td>78641</td>\n",
       "    </tr>\n",
       "    <tr>\n",
       "      <th>4</th>\n",
       "      <td>4256</td>\n",
       "      <td>2011</td>\n",
       "      <td>78652</td>\n",
       "    </tr>\n",
       "  </tbody>\n",
       "</table>\n",
       "</div>"
      ],
      "text/plain": [
       "   Population  year  Zip Code\n",
       "0       22052  2011     78610\n",
       "1       63901  2011     78613\n",
       "2       18572  2011     78617\n",
       "3       43655  2011     78641\n",
       "4        4256  2011     78652"
      ]
     },
     "execution_count": 5,
     "metadata": {},
     "output_type": "execute_result"
    }
   ],
   "source": [
    "census_df.head()"
   ]
  },
  {
   "cell_type": "markdown",
   "metadata": {},
   "source": [
    "# Heat map of crime rates per zip code"
   ]
  },
  {
   "cell_type": "markdown",
   "metadata": {},
   "source": [
    "## Step 1: Calculate crime rates\n",
    "* Crimes rates being number of crimes per 100,000 people in a zip code"
   ]
  },
  {
   "cell_type": "code",
   "execution_count": null,
   "metadata": {},
   "outputs": [],
   "source": [
    "rates_df = crime_df.groupby(['year', 'Zip Code'])['Highest Offense Description'].count().to_frame().rename(columns={'Highest Offense Description' : 'Reports'}).reset_index()\n",
    "\n",
    "rates_df = rates_df.merge(census_df, on=['year', 'Zip Code'])\n",
    "\n",
    "rates_df['Crime Rate'] = round(100_000 * rates_df['Reports'] / rates_df['Population'],1)\n",
    "\n",
    "rates_df.head()"
   ]
  },
  {
   "cell_type": "code",
   "execution_count": 24,
   "metadata": {},
   "outputs": [],
   "source": [
    "rates_df.to_csv('crime_rates.csv', index=False)"
   ]
  },
  {
   "cell_type": "markdown",
   "metadata": {},
   "source": [
    "## Step 2: Get latitude and longitude for each zip code"
   ]
  },
  {
   "cell_type": "code",
   "execution_count": 7,
   "metadata": {},
   "outputs": [],
   "source": [
    "# Set up dictionaries keyed by Austin zip codes\n",
    "# For latitude and longitude, respectively\n",
    "lat = dict.fromkeys(atx_zip_codes)\n",
    "lng = dict.fromkeys(atx_zip_codes)\n",
    "\n",
    "# Make API calls to find out latitude and longitude for each zip code\n",
    "for zipcode in atx_zip_codes:\n",
    "    base_url = 'https://maps.googleapis.com/maps/api/geocode/json?address={0}&key={1}'.format(zipcode, gkey)\n",
    "    # Convert to JSON\n",
    "    response = requests.get(base_url).json()\n",
    "    # Extract lat/lng\n",
    "    lat[zipcode] = response[\"results\"][0][\"geometry\"][\"location\"][\"lat\"]\n",
    "    lng[zipcode] = response[\"results\"][0][\"geometry\"][\"location\"][\"lng\"]\n",
    "\n",
    "# Add columns to dataframe for latitude and longitude\n",
    "rates_df['Lat'] = rates_df['Zip Code'].apply(lambda z : lat[z])\n",
    "rates_df['Lng'] = rates_df['Zip Code'].apply(lambda z : lng[z])"
   ]
  },
  {
   "cell_type": "markdown",
   "metadata": {},
   "source": [
    "## Step 3: Set up and display heat map\n",
    "* Note to self: Cannot get this to work so far. Shelving for now"
   ]
  },
  {
   "cell_type": "code",
   "execution_count": 9,
   "metadata": {},
   "outputs": [
    {
     "data": {
      "application/vnd.jupyter.widget-view+json": {
       "model_id": "a40355ce9aed431f969205dfc0c1d730",
       "version_major": 2,
       "version_minor": 0
      },
      "text/plain": [
       "Figure(layout=FigureLayout(height='420px'))"
      ]
     },
     "metadata": {},
     "output_type": "display_data"
    }
   ],
   "source": [
    "fig = gmaps.figure()\n",
    "# Create a heat layer\n",
    "crime_zipcode = gmaps.heatmap_layer(rates_df[[\"Lat\", \"Lng\"]].astype(float), weights= rates_df['Crime Rate'].astype(float), \n",
    "                                 dissipating=True, max_intensity=150000,\n",
    "                                 point_radius = 30)\n",
    "\n",
    "# Adjust heat_layer setting to help with heatmap dissipating on zoom\n",
    "crime_zipcode.dissipating = True\n",
    "crime_zipcode.max_intensity = 150000\n",
    "crime_zipcode.point_radius = 30\n",
    "\n",
    "fig.add_layer(crime_zipcode)\n",
    "\n",
    "fig\n",
    "\n",
    "###### !!!!\n",
    "## Code not complete, need to figure out how to get the figure to display first before I proceed forward"
   ]
  },
  {
   "cell_type": "markdown",
   "metadata": {},
   "source": [
    "# Percent Changes from 2011-2016"
   ]
  },
  {
   "cell_type": "code",
   "execution_count": 73,
   "metadata": {},
   "outputs": [
    {
     "data": {
      "image/png": "[encoded data removed]",
      "text/plain": [
       "<Figure size 1080x504 with 1 Axes>"
      ]
     },
     "metadata": {
      "needs_background": "light"
     },
     "output_type": "display_data"
    }
   ],
   "source": [
    "popcrime_df = pd.read_csv('crime_rates.csv')\n",
    "home_df = pd.read_csv('zillow_data.csv')\n",
    "\n",
    "hmask_2011 = [x == 2011 for x in home_df.year]\n",
    "home_df_2011 = home_df[hmask_2011]\n",
    "\n",
    "hmask_2016 = [x == 2016 for x in home_df.year]\n",
    "home_df_2016 = home_df[hmask_2016]\n",
    "\n",
    "merge_years_home = pd.merge(home_df_2011, home_df_2016, on=\"Zip Code\")\n",
    "\n",
    "merge_years_home['ZHVI_difference'] = merge_years_home['ZHVI_AllHomes_y'] - merge_years_home['ZHVI_AllHomes_x']\n",
    "\n",
    "merge_years_home['ZHVI_percent_change'] = merge_years_home['ZHVI_difference'] / merge_years_home['ZHVI_AllHomes_x'] * 100\n",
    "\n",
    "merge_years_home['ZHVI_percent_change'] = merge_years_home['ZHVI_percent_change'].round(2)\n",
    "\n",
    "pcmask_2011 = [x == 2011 for x in popcrime_df.year]\n",
    "popcrime_df_2011 = popcrime_df[pcmask_2011]\n",
    "\n",
    "pcmask_2016 = [x == 2016 for x in popcrime_df.year]\n",
    "popcrime_df_2016 = popcrime_df[pcmask_2016]\n",
    "\n",
    "popcrime_df_2011 = popcrime_df_2011.drop(['Crime Rate'], axis=1)\n",
    "\n",
    "popcrime_df_2016 = popcrime_df_2016.drop(['Crime Rate'], axis=1)\n",
    "\n",
    "merge_years_popcrime = pd.merge(popcrime_df_2011, popcrime_df_2016, on=\"Zip Code\")\n",
    "\n",
    "merge_years_popcrime['population_difference'] = merge_years_popcrime['Population_y'] - merge_years_popcrime['Population_x']\n",
    "\n",
    "merge_years_popcrime['#_of_crimes_difference'] = merge_years_popcrime['Reports_y'] - merge_years_popcrime['Reports_x']\n",
    "\n",
    "merge_years_popcrime['population_percent_change'] = merge_years_popcrime['population_difference'] / merge_years_popcrime['Population_x'] * 100\n",
    "\n",
    "merge_years_popcrime['population_percent_change'] = merge_years_popcrime['population_percent_change'].round(2)\n",
    "\n",
    "merge_years_popcrime['crimes_percent_change'] = merge_years_popcrime['#_of_crimes_difference'] / merge_years_popcrime['Reports_x'] * 100\n",
    "\n",
    "merge_years_popcrime['crimes_percent_change'] = merge_years_popcrime['crimes_percent_change'].round(2)\n",
    "\n",
    "merge_years_popcrimecost = pd.merge(merge_years_popcrime, merge_years_home, on=\"Zip Code\")\n",
    "\n",
    "x_axis_1 = []\n",
    "counter = 1\n",
    "for i in range(0,37,1):\n",
    "    x_axis_1.append(counter)\n",
    "    counter += 4\n",
    "\n",
    "x_axis_2 = []\n",
    "counter = 2\n",
    "for i in range(0,37,1):\n",
    "    x_axis_2.append(counter)\n",
    "    counter += 4\n",
    "\n",
    "x_axis_3 = []\n",
    "counter = 3\n",
    "for i in range(0,37,1):\n",
    "    x_axis_3.append(counter)\n",
    "    counter += 4\n",
    "\n",
    "ticks = []\n",
    "counter = 4\n",
    "for i in range(0,37,1):\n",
    "    ticks.append(counter)\n",
    "    counter += 4\n",
    "\n",
    "perc_change_cost = merge_years_popcrimecost['ZHVI_percent_change']\n",
    "perc_change_pop = merge_years_popcrimecost['population_percent_change']\n",
    "perc_change_crime = merge_years_popcrimecost['crimes_percent_change']\n",
    "\n",
    "zip_code_all = merge_years_popcrimecost['Zip Code']\n",
    "\n",
    "# Create bars\n",
    "plt.bar(x_axis_1, perc_change_cost, color='orange', alpha=1, label=\"Home Cost\")\n",
    "plt.bar(x_axis_2, perc_change_pop, color='blue', alpha=1, label=\"Population\")\n",
    "plt.bar(x_axis_3, perc_change_crime, color='olive', alpha=1, label=\"Crime\")\n",
    " \n",
    "# Create names on the x-axis\n",
    "plt.xticks(ticks, zip_code_all, rotation=45)\n",
    "plt.xlabel(\"Austin, TX Zip Codes\")\n",
    "plt.ylabel(\"Percent Change from 2011-2016 (%)\")\n",
    "plt.title(\"Percent Change of Population, Crimes, and Median Home Cost by Austin, TX Zip Code (2011-2016)\")\n",
    "plt.legend()\n",
    "\n",
    "plt.axhline(0, color='black', linewidth=2)\n",
    "plt.grid(axis='x')\n",
    "\n",
    "fig = plt.gcf()\n",
    "fig.set_size_inches(15,7)\n",
    "\n",
    "plt.savefig('popcrimecostpercentchangeBARTEST.png')\n",
    "# Show graphic\n",
    "plt.show()"
   ]
  },
  {
   "cell_type": "markdown",
   "metadata": {},
   "source": [
    "Overall, population and median home cost in Austin increased between 2011 and 2016.\n",
    "There appears to be similarities in the rate of increase for both population and median home cost.\n",
    "Overall, crime decreased across most of the Austin zip codes.\n",
    "There is no visibile relationship between the crime and the median home cost"
   ]
  },
  {
   "cell_type": "code",
   "execution_count": null,
   "metadata": {},
   "outputs": [],
   "source": []
  }
 ],
 "metadata": {
  "kernelspec": {
   "display_name": "Python 3",
   "language": "python",
   "name": "python3"
  },
  "language_info": {
   "codemirror_mode": {
    "name": "ipython",
    "version": 3
   },
   "file_extension": ".py",
   "mimetype": "text/x-python",
   "name": "python",
   "nbconvert_exporter": "python",
   "pygments_lexer": "ipython3",
   "version": "3.7.1"
  }
 },
 "nbformat": 4,
 "nbformat_minor": 2
}
