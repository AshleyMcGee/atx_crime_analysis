{
 "cells": [
  {
   "cell_type": "markdown",
   "metadata": {},
   "source": [
    "# Austin, TX Crime Analysis"
   ]
  },
  {
   "cell_type": "code",
   "execution_count": 8,
   "metadata": {},
   "outputs": [],
   "source": [
    "# Dependencies\n",
    "import pandas as pd\n",
    "import numpy as np\n",
    "import matplotlib.pyplot as plt\n",
    "from census import Census\n",
    "\n",
    "from usefuls import atx_zip_codes, census_key, zipcode_tabulation_area, similar_offense_type"
   ]
  },
  {
   "cell_type": "markdown",
   "metadata": {},
   "source": [
    "## Get Property Data from Zillow\n",
    "* The data file is too large to upload to GitHub, but it is obtainable from [here](https://www.kaggle.com/zillow/zecon#Zip_time_series.cs)"
   ]
  },
  {
   "cell_type": "code",
   "execution_count": 4,
   "metadata": {},
   "outputs": [
    {
     "data": {
      "text/html": [
       "<div>\n",
       "<style scoped>\n",
       "    .dataframe tbody tr th:only-of-type {\n",
       "        vertical-align: middle;\n",
       "    }\n",
       "\n",
       "    .dataframe tbody tr th {\n",
       "        vertical-align: top;\n",
       "    }\n",
       "\n",
       "    .dataframe thead th {\n",
       "        text-align: right;\n",
       "    }\n",
       "</style>\n",
       "<table border=\"1\" class=\"dataframe\">\n",
       "  <thead>\n",
       "    <tr style=\"text-align: right;\">\n",
       "      <th></th>\n",
       "      <th></th>\n",
       "      <th>ZHVI_AllHomes</th>\n",
       "    </tr>\n",
       "    <tr>\n",
       "      <th>year</th>\n",
       "      <th>Zip Code</th>\n",
       "      <th></th>\n",
       "    </tr>\n",
       "  </thead>\n",
       "  <tbody>\n",
       "    <tr>\n",
       "      <th rowspan=\"5\" valign=\"top\">2011</th>\n",
       "      <th>78610</th>\n",
       "      <td>167591.67</td>\n",
       "    </tr>\n",
       "    <tr>\n",
       "      <th>78613</th>\n",
       "      <td>182450.00</td>\n",
       "    </tr>\n",
       "    <tr>\n",
       "      <th>78617</th>\n",
       "      <td>104841.67</td>\n",
       "    </tr>\n",
       "    <tr>\n",
       "      <th>78641</th>\n",
       "      <td>143600.00</td>\n",
       "    </tr>\n",
       "    <tr>\n",
       "      <th>78664</th>\n",
       "      <td>130350.00</td>\n",
       "    </tr>\n",
       "  </tbody>\n",
       "</table>\n",
       "</div>"
      ],
      "text/plain": [
       "               ZHVI_AllHomes\n",
       "year Zip Code               \n",
       "2011 78610         167591.67\n",
       "     78613         182450.00\n",
       "     78617         104841.67\n",
       "     78641         143600.00\n",
       "     78664         130350.00"
      ]
     },
     "execution_count": 4,
     "metadata": {},
     "output_type": "execute_result"
    }
   ],
   "source": [
    "# Read the file\n",
    "zillow_df = pd.read_csv('Zip_time_series.csv')\n",
    "\n",
    "# Rename RegionName to zipcode\n",
    "zillow_df = zillow_df.rename(columns={'RegionName': 'Zip Code'})\n",
    "\n",
    "# Filter out all non-Austin area zipcodes\n",
    "zillow_df = zillow_df[[(z in atx_zip_codes) for z in zillow_df['Zip Code']]]\n",
    "\n",
    "# Add year column to dataframe\n",
    "zillow_df['year'] = zillow_df['Date'].apply(lambda s : int(s[:4]))\n",
    "\n",
    "# Filter out all years before 2009\n",
    "zillow_df = zillow_df[(zillow_df['year'] >= 2011) & (zillow_df['year'] <= 2016)]\n",
    "\n",
    "# Keep only the columns we need\n",
    "zillow_df = zillow_df[['year', 'Zip Code', 'ZHVI_AllHomes']]\n",
    "\n",
    "# Drop NaN values\n",
    "zillow_df = zillow_df.dropna()\n",
    "\n",
    "# Group data by year, zipcode, find the mean ZHVI per year per zipcode\n",
    "zillow_df = round(zillow_df.groupby(['year', 'Zip Code']).ZHVI_AllHomes.mean(),2).to_frame()\n",
    "\n",
    "# Preview the frame\n",
    "zillow_df.head()"
   ]
  },
  {
   "cell_type": "markdown",
   "metadata": {},
   "source": [
    "## Get Austin Police Department crime data\n",
    "* The csv file used is obtainable from [here](https://data.austintexas.gov/Public-Safety/Crime-Reports/fdj4-gpfu)"
   ]
  },
  {
   "cell_type": "code",
   "execution_count": null,
   "metadata": {},
   "outputs": [],
   "source": [
    "crime_df = pd.read_csv('Crime_Reports.csv')\n",
    "\n",
    "# Filter out non greater Austin zip codes\n",
    "crime_df = crime_df[crime_df['Zip Code'].isin(atx_zip_codes)]"
   ]
  },
  {
   "cell_type": "code",
   "execution_count": 7,
   "metadata": {},
   "outputs": [
    {
     "data": {
      "text/html": [
       "<div>\n",
       "<style scoped>\n",
       "    .dataframe tbody tr th:only-of-type {\n",
       "        vertical-align: middle;\n",
       "    }\n",
       "\n",
       "    .dataframe tbody tr th {\n",
       "        vertical-align: top;\n",
       "    }\n",
       "\n",
       "    .dataframe thead th {\n",
       "        text-align: right;\n",
       "    }\n",
       "</style>\n",
       "<table border=\"1\" class=\"dataframe\">\n",
       "  <thead>\n",
       "    <tr style=\"text-align: right;\">\n",
       "      <th></th>\n",
       "      <th>Zip Code</th>\n",
       "      <th>year</th>\n",
       "      <th>Highest Offense Description</th>\n",
       "    </tr>\n",
       "  </thead>\n",
       "  <tbody>\n",
       "    <tr>\n",
       "      <th>1</th>\n",
       "      <td>78701</td>\n",
       "      <td>2014</td>\n",
       "      <td>Burglary</td>\n",
       "    </tr>\n",
       "    <tr>\n",
       "      <th>2</th>\n",
       "      <td>78702</td>\n",
       "      <td>2015</td>\n",
       "      <td>Other</td>\n",
       "    </tr>\n",
       "    <tr>\n",
       "      <th>5</th>\n",
       "      <td>78759</td>\n",
       "      <td>2015</td>\n",
       "      <td>Motor Vehicle Theft</td>\n",
       "    </tr>\n",
       "    <tr>\n",
       "      <th>6</th>\n",
       "      <td>78741</td>\n",
       "      <td>2013</td>\n",
       "      <td>Burglary</td>\n",
       "    </tr>\n",
       "    <tr>\n",
       "      <th>8</th>\n",
       "      <td>78719</td>\n",
       "      <td>2016</td>\n",
       "      <td>Other</td>\n",
       "    </tr>\n",
       "  </tbody>\n",
       "</table>\n",
       "</div>"
      ],
      "text/plain": [
       "   Zip Code  year Highest Offense Description\n",
       "1     78701  2014                    Burglary\n",
       "2     78702  2015                       Other\n",
       "5     78759  2015         Motor Vehicle Theft\n",
       "6     78741  2013                    Burglary\n",
       "8     78719  2016                       Other"
      ]
     },
     "execution_count": 7,
     "metadata": {},
     "output_type": "execute_result"
    }
   ],
   "source": [
    "# Extract only years from date\n",
    "crime_df['year'] = crime_df['Occurred Date'].apply(lambda d : int(d[-4:]))\n",
    "\n",
    "# Drop unnecessary columns\n",
    "crime_df = crime_df[['Zip Code', 'year', 'Highest Offense Description']]\n",
    "\n",
    "# Look at only years 2011-2016\n",
    "crime_df = crime_df[(crime_df['year'] >= 2011) & (crime_df['year'] <= 2016)]\n",
    "\n",
    "# Convert zip codes to integer type\n",
    "crime_df['Zip Code'] = crime_df['Zip Code'].apply(lambda x: int(x))\n",
    "\n",
    "# Combine similar offenses\n",
    "crime_df[\"Highest Offense Description\"] = crime_df[\"Highest Offense Description\"].replace(similar_offense_type)\n",
    "\n",
    "# Preview\n",
    "crime_df.head()"
   ]
  },
  {
   "cell_type": "markdown",
   "metadata": {},
   "source": [
    "## Get census data"
   ]
  },
  {
   "cell_type": "code",
   "execution_count": 9,
   "metadata": {},
   "outputs": [
    {
     "data": {
      "text/html": [
       "<div>\n",
       "<style scoped>\n",
       "    .dataframe tbody tr th:only-of-type {\n",
       "        vertical-align: middle;\n",
       "    }\n",
       "\n",
       "    .dataframe tbody tr th {\n",
       "        vertical-align: top;\n",
       "    }\n",
       "\n",
       "    .dataframe thead th {\n",
       "        text-align: right;\n",
       "    }\n",
       "</style>\n",
       "<table border=\"1\" class=\"dataframe\">\n",
       "  <thead>\n",
       "    <tr style=\"text-align: right;\">\n",
       "      <th></th>\n",
       "      <th>Population</th>\n",
       "      <th>year</th>\n",
       "      <th>Zip Code</th>\n",
       "    </tr>\n",
       "  </thead>\n",
       "  <tbody>\n",
       "    <tr>\n",
       "      <th>0</th>\n",
       "      <td>22052</td>\n",
       "      <td>2011</td>\n",
       "      <td>78610</td>\n",
       "    </tr>\n",
       "    <tr>\n",
       "      <th>1</th>\n",
       "      <td>63901</td>\n",
       "      <td>2011</td>\n",
       "      <td>78613</td>\n",
       "    </tr>\n",
       "    <tr>\n",
       "      <th>2</th>\n",
       "      <td>18572</td>\n",
       "      <td>2011</td>\n",
       "      <td>78617</td>\n",
       "    </tr>\n",
       "    <tr>\n",
       "      <th>3</th>\n",
       "      <td>43655</td>\n",
       "      <td>2011</td>\n",
       "      <td>78641</td>\n",
       "    </tr>\n",
       "    <tr>\n",
       "      <th>4</th>\n",
       "      <td>4256</td>\n",
       "      <td>2011</td>\n",
       "      <td>78652</td>\n",
       "    </tr>\n",
       "  </tbody>\n",
       "</table>\n",
       "</div>"
      ],
      "text/plain": [
       "   Population  year  Zip Code\n",
       "0       22052  2011     78610\n",
       "1       63901  2011     78613\n",
       "2       18572  2011     78617\n",
       "3       43655  2011     78641\n",
       "4        4256  2011     78652"
      ]
     },
     "execution_count": 9,
     "metadata": {},
     "output_type": "execute_result"
    }
   ],
   "source": [
    "# Prepare dictionary of census data keyed by year\n",
    "# We use what years are available: 2011 - 2016\n",
    "# 2010 gives geography error; zipcode geography was not supported in that year\n",
    "years = list(range(2011,2017))\n",
    "# Census() results\n",
    "cen = dict.fromkeys(years)\n",
    "# cen.acs5.get() results\n",
    "census_data = dict.fromkeys(years)\n",
    "# Get census data\n",
    "for y in years:\n",
    "    cen[y] = Census(census_key, year=y)\n",
    "    census_data[y] = cen[y].acs5.get((\"B01003_001E\"), {'for': zipcode_tabulation_area})\n",
    "\n",
    "# Add year to each row-to-be\n",
    "for y in years:\n",
    "    for i, l in enumerate(census_data[y]):\n",
    "            census_data[y][i]['year'] = y\n",
    "\n",
    "# Convert census data to one dataframe\n",
    "census_df = pd.DataFrame()\n",
    "for y in years:\n",
    "    census_df = census_df.append(pd.DataFrame(census_data[y]))\n",
    "\n",
    "census_df = census_df.rename(columns={\"B01003_001E\": \"Population\", \"zip code tabulation area\": \"Zip Code\"})\n",
    "# Convert population and Zip Code to integers\n",
    "census_df['Zip Code'] = census_df['Zip Code'].apply(lambda x : int(x))\n",
    "census_df['Population'] = census_df['Population'].apply(lambda x : int(x))\n",
    "\n",
    "# Preview\n",
    "census_df.head()"
   ]
  },
  {
   "cell_type": "code",
   "execution_count": null,
   "metadata": {},
   "outputs": [],
   "source": []
  }
 ],
 "metadata": {
  "kernelspec": {
   "display_name": "Python 3",
   "language": "python",
   "name": "python3"
  },
  "language_info": {
   "codemirror_mode": {
    "name": "ipython",
    "version": 3
   },
   "file_extension": ".py",
   "mimetype": "text/x-python",
   "name": "python",
   "nbconvert_exporter": "python",
   "pygments_lexer": "ipython3",
   "version": "3.7.1"
  }
 },
 "nbformat": 4,
 "nbformat_minor": 2
}
