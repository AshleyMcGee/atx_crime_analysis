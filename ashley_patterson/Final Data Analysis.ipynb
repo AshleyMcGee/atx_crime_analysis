{
 "cells": [
  {
   "cell_type": "markdown",
   "metadata": {},
   "source": [
    "### Team Members: "
   ]
  },
  {
   "cell_type": "markdown",
   "metadata": {},
   "source": [
    "Ashley McGee, Robert McAlmon, Ashley Patterson, Jenny Dang, Stephanie Engeling"
   ]
  },
  {
   "cell_type": "markdown",
   "metadata": {},
   "source": [
    "# Austin Crime Rate Analysis "
   ]
  },
  {
   "cell_type": "markdown",
   "metadata": {},
   "source": [
    "### Examine the correlation between crime rate and the home prices in Austin. "
   ]
  },
  {
   "cell_type": "markdown",
   "metadata": {},
   "source": [
    "Describe the questions you and your group found interesting, and what motivated you to answer them\n",
    "\n",
    "1. Where is crime concentrated in Austin? \n",
    "2. Is there a correlation between housing prices and crime rate? \n",
    "3. Which type of crime is prominent in each zip code? \n",
    "4. Does population influnce the number of reported crimes in a zip code?"
   ]
  },
  {
   "cell_type": "markdown",
   "metadata": {},
   "source": [
    "## Datasets Used: \n",
    " 1. https://www.kaggle.com/zillow/zecon\n",
    " 2. https://www.census.gov/developers/\n",
    " 3. https://data.austintexas.gov/Public-Safety/Crime-Reports/fdj4-gpfu"
   ]
  },
  {
   "cell_type": "markdown",
   "metadata": {},
   "source": [
    "## Breakdown of Tasks:\n",
    "\n",
    "1. Get dataset from sources.\n",
    "2. Cleaned data.\n",
    "3. Breakdown and analyze dataset.\n",
    "4. Get crime rate by dividing crime reported by population for each zip code. \n",
    "5. Calculate percent change of crime, population, and median home value.\n",
    "6. Find correlation between percent change of crime, population, and median home value. \n",
    "7. Graph using MatPlotLib.\n",
    "8. Make conclusions.\n"
   ]
  },
  {
   "cell_type": "markdown",
   "metadata": {},
   "source": [
    "# Questions - Answered"
   ]
  },
  {
   "cell_type": "markdown",
   "metadata": {},
   "source": [
    "###### 1. Where is crime concentrated in Austin? \n",
    "\n",
    "<img src=\"crime_heatmap.png\">\n",
    "\n",
    "* Downtown has the largest concentratation of crime with 8075 reports.\n",
    "* Crime reports in each zipcode do not correlate to population density, as there are certain zipcode with a low population but high number of crime reports, or vice versa.\n",
    "* There is a high intensity of crime rate per 100,000 people in Downtown and East Austin (78701, 78702, 78703), showing that most crimes occur in this area."
   ]
  },
  {
   "cell_type": "markdown",
   "metadata": {},
   "source": [
    "###### 2. Is there a correlation between housing prices and crime rate? "
   ]
  },
  {
   "cell_type": "markdown",
   "metadata": {},
   "source": [
    "<img src=\"popcrimecostpercentchangeBAR.png\">\n",
    "\n",
    "* Overall, population and median home cost in Austin increased between 2011 and 2016.\n",
    "* There appears to be similarities in the rate of increase for both population and median home cost.\n",
    "* Overall, crime decreased across most of the Austin zip codes.\n",
    "* There is no visibile relationship between the crime and the median home cost."
   ]
  },
  {
   "cell_type": "markdown",
   "metadata": {},
   "source": [
    "###### 3. Which type of crime is prominent in each zip code? "
   ]
  },
  {
   "cell_type": "markdown",
   "metadata": {},
   "source": [
    "<img src=\"nonviolent_crimes.png\">\n",
    "<img src=\"violent_crimes.png\">\n",
    "\n",
    "* The most common violent crime by zip code is Aggravated Assault.\n",
    "* The most common non-violent crime by zip code is Theft.\n",
    "* Exemplary of national statistics that not all sexual assault cases are reported, out of a population of 950,715, only 1,140 cases of Sexual Assault were reported in 2018.\n",
    "* We extrapolated a few zip codes and noted that there are 254 instances theft in 78613, which is Cedar Park, a zip code spanning Williamson County with a population of over 48,000 people. Given that we have calculated a 14% correlation between population size and crime rate, it stands to reason that population density has no real effect on the amount of crime occurring in a given area. \n"
   ]
  },
  {
   "cell_type": "markdown",
   "metadata": {},
   "source": [
    "###### 4. Does population influnce the number of reported crimes in a zip code?"
   ]
  },
  {
   "cell_type": "markdown",
   "metadata": {},
   "source": [
    "<img src=\"crime_pop.png\">\n",
    "\n",
    "* There is a weak positive (14%) correlation between population and crime rates. \n",
    "* Population alone is not a good indicator of crime because a lot of crime is commited in commercial areas where not many people live. "
   ]
  },
  {
   "cell_type": "markdown",
   "metadata": {},
   "source": [
    "## Conclusions"
   ]
  },
  {
   "cell_type": "markdown",
   "metadata": {},
   "source": [
    "*\n",
    "*\n",
    "*"
   ]
  }
 ],
 "metadata": {
  "kernelspec": {
   "display_name": "Python 3",
   "language": "python",
   "name": "python3"
  },
  "language_info": {
   "codemirror_mode": {
    "name": "ipython",
    "version": 3
   },
   "file_extension": ".py",
   "mimetype": "text/x-python",
   "name": "python",
   "nbconvert_exporter": "python",
   "pygments_lexer": "ipython3",
   "version": "3.7.1"
  }
 },
 "nbformat": 4,
 "nbformat_minor": 2
}
