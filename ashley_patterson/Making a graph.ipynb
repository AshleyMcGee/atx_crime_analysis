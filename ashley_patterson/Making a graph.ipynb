{
 "cells": [
  {
   "cell_type": "code",
   "execution_count": 1,
   "metadata": {},
   "outputs": [],
   "source": [
    "import numpy as np\n",
    "import pandas as pd\n",
    "import matplotlib.pyplot as plt\n",
    "import requests\n",
    "from census import Census\n",
    "import gmaps\n",
    "\n",
    "c = Census('85ac64b6b5a9c0901b00329d1ef41f0c53ccfc98', year=2017)\n",
    "\n",
    "offenses = pd.read_csv('atx_offenses_zip_2009-2018.csv')\n",
    "crime_rate = pd.read_csv('atx_crime_rates_2009-2018.csv')\n",
    "zillow = pd.read_csv('atx_mean_zhvi_2009-2017.csv')"
   ]
  },
  {
   "cell_type": "markdown",
   "metadata": {},
   "source": [
    "## Census data "
   ]
  },
  {
   "cell_type": "code",
   "execution_count": 2,
   "metadata": {},
   "outputs": [],
   "source": [
    "census_data = c.acs5.get((\"NAME\", \"B19013_001E\", \"B01003_001E\", \"B01002_001E\",\n",
    "                          \"B19301_001E\",\n",
    "                          \"B17001_002E\"), {'for': 'zip code tabulation area: 78610, 78613, 78617, 78641, 78652, 78653, 78660, 78664, 78681, 78701, 78702, 78703, 78704,78705, 78712, 78717, 78719, 78721, 78722, 78723, 78724, 78725, 78726,78727, 78728, 78729, 78730, 78731, 78732, 78733, 78734, 78735, 78736,78737, 78738, 78739, 78741, 78742, 78744, 78745, 78746, 78747, 78748, 78749, 78750, 78751, 78752, 78753, 78754, 78756, 78757,78758, 78759'})\n",
    "\n",
    "census_pd = pd.DataFrame(census_data)\n",
    "\n",
    "census_pd = census_pd.rename(columns={\"B01003_001E\": \"Population\",\n",
    "                                      \"B01002_001E\": \"Median Age\",\n",
    "                                      \"B19013_001E\": \"Household Income\",\n",
    "                                      \"B19301_001E\": \"Per Capita Income\",\n",
    "                                      \"B17001_002E\": \"Poverty Count\",\n",
    "                                      \"NAME\": \"Name\", \"zip code tabulation area\": \"Zipcode\"})\n",
    "\n",
    "\n",
    "census_pd = census_pd[[\"Zipcode\", \"Population\", \"Median Age\", \"Household Income\",\n",
    "                       \"Per Capita Income\", \"Poverty Count\"]]\n",
    "\n"
   ]
  },
  {
   "cell_type": "code",
   "execution_count": 3,
   "metadata": {},
   "outputs": [
    {
     "data": {
      "text/plain": [
       "Zipcode               object\n",
       "Population           float64\n",
       "Median Age           float64\n",
       "Household Income     float64\n",
       "Per Capita Income    float64\n",
       "Poverty Count        float64\n",
       "dtype: object"
      ]
     },
     "execution_count": 3,
     "metadata": {},
     "output_type": "execute_result"
    }
   ],
   "source": [
    "census_pd.dtypes"
   ]
  },
  {
   "cell_type": "code",
   "execution_count": 4,
   "metadata": {},
   "outputs": [],
   "source": [
    "\n",
    "offenses = offenses.drop(\"Unnamed: 0\", axis = 1)"
   ]
  },
  {
   "cell_type": "code",
   "execution_count": 5,
   "metadata": {},
   "outputs": [],
   "source": [
    "df = pd.merge(crime_rate, offenses, on='Zip Code')\n",
    "df = df.drop(\"year_y\", axis = 1)"
   ]
  },
  {
   "cell_type": "code",
   "execution_count": 6,
   "metadata": {},
   "outputs": [],
   "source": [
    "df = df.drop(\"Occurred Date\", axis = 1)\n",
    "df = df.drop(\"Highest Offense Description\", axis = 1)"
   ]
  },
  {
   "cell_type": "code",
   "execution_count": 7,
   "metadata": {},
   "outputs": [],
   "source": [
    "df.head()\n",
    "df.rename(columns={'year_x':'Year'}, \n",
    "                 inplace=True)"
   ]
  },
  {
   "cell_type": "code",
   "execution_count": 8,
   "metadata": {},
   "outputs": [],
   "source": [
    "zillow.head()\n",
    "zillow.rename(columns={'year':'Year'}, \n",
    "              inplace=True)"
   ]
  },
  {
   "cell_type": "code",
   "execution_count": 9,
   "metadata": {},
   "outputs": [],
   "source": [
    "df2 = pd.merge(df, zillow, on=['Zip Code','Year'])"
   ]
  },
  {
   "cell_type": "code",
   "execution_count": 10,
   "metadata": {},
   "outputs": [
    {
     "data": {
      "text/html": [
       "<div>\n",
       "<style scoped>\n",
       "    .dataframe tbody tr th:only-of-type {\n",
       "        vertical-align: middle;\n",
       "    }\n",
       "\n",
       "    .dataframe tbody tr th {\n",
       "        vertical-align: top;\n",
       "    }\n",
       "\n",
       "    .dataframe thead th {\n",
       "        text-align: right;\n",
       "    }\n",
       "</style>\n",
       "<table border=\"1\" class=\"dataframe\">\n",
       "  <thead>\n",
       "    <tr style=\"text-align: right;\">\n",
       "      <th></th>\n",
       "      <th>Year</th>\n",
       "      <th>Zip Code</th>\n",
       "      <th>Number of Crimes</th>\n",
       "      <th>Crime Rate</th>\n",
       "      <th>ZHVI_AllHomes</th>\n",
       "    </tr>\n",
       "  </thead>\n",
       "  <tbody>\n",
       "    <tr>\n",
       "      <th>408</th>\n",
       "      <td>2017</td>\n",
       "      <td>78610</td>\n",
       "      <td>4</td>\n",
       "      <td>0.003686</td>\n",
       "      <td>237550.0</td>\n",
       "    </tr>\n",
       "    <tr>\n",
       "      <th>409</th>\n",
       "      <td>2017</td>\n",
       "      <td>78610</td>\n",
       "      <td>4</td>\n",
       "      <td>0.003686</td>\n",
       "      <td>237550.0</td>\n",
       "    </tr>\n",
       "    <tr>\n",
       "      <th>410</th>\n",
       "      <td>2017</td>\n",
       "      <td>78610</td>\n",
       "      <td>4</td>\n",
       "      <td>0.003686</td>\n",
       "      <td>237550.0</td>\n",
       "    </tr>\n",
       "    <tr>\n",
       "      <th>411</th>\n",
       "      <td>2017</td>\n",
       "      <td>78610</td>\n",
       "      <td>4</td>\n",
       "      <td>0.003686</td>\n",
       "      <td>237550.0</td>\n",
       "    </tr>\n",
       "    <tr>\n",
       "      <th>412</th>\n",
       "      <td>2017</td>\n",
       "      <td>78610</td>\n",
       "      <td>4</td>\n",
       "      <td>0.003686</td>\n",
       "      <td>237550.0</td>\n",
       "    </tr>\n",
       "  </tbody>\n",
       "</table>\n",
       "</div>"
      ],
      "text/plain": [
       "     Year  Zip Code  Number of Crimes  Crime Rate  ZHVI_AllHomes\n",
       "408  2017     78610                 4    0.003686       237550.0\n",
       "409  2017     78610                 4    0.003686       237550.0\n",
       "410  2017     78610                 4    0.003686       237550.0\n",
       "411  2017     78610                 4    0.003686       237550.0\n",
       "412  2017     78610                 4    0.003686       237550.0"
      ]
     },
     "execution_count": 10,
     "metadata": {},
     "output_type": "execute_result"
    }
   ],
   "source": [
    "new_df = df2.loc[df2['Year'] == 2017]\n",
    "new_df.head()"
   ]
  },
  {
   "cell_type": "code",
   "execution_count": null,
   "metadata": {},
   "outputs": [],
   "source": []
  },
  {
   "cell_type": "code",
   "execution_count": 11,
   "metadata": {},
   "outputs": [
    {
     "name": "stderr",
     "output_type": "stream",
     "text": [
      "/anaconda3/lib/python3.7/site-packages/ipykernel_launcher.py:4: SettingWithCopyWarning: \n",
      "A value is trying to be set on a copy of a slice from a DataFrame.\n",
      "Try using .loc[row_indexer,col_indexer] = value instead\n",
      "\n",
      "See the caveats in the documentation: http://pandas.pydata.org/pandas-docs/stable/indexing.html#indexing-view-versus-copy\n",
      "  after removing the cwd from sys.path.\n"
     ]
    }
   ],
   "source": [
    "bins = [0, 199999, 299999, 399999, 499999, 599999, 699999, 799999, 1099999]\n",
    "group_labels = [\"100k-200k\", \"200k-300k\", \"300k-400k\", \"400k-500k\", \"500k-600k\",\n",
    "                \"600k-700k\", \"700k-800k\", \">900k\"]\n",
    "new_df[\"Median Home Value\"] = pd.cut(new_df[\"ZHVI_AllHomes\"], bins, labels=group_labels)"
   ]
  },
  {
   "cell_type": "code",
   "execution_count": 12,
   "metadata": {},
   "outputs": [
    {
     "data": {
      "text/html": [
       "<div>\n",
       "<style scoped>\n",
       "    .dataframe tbody tr th:only-of-type {\n",
       "        vertical-align: middle;\n",
       "    }\n",
       "\n",
       "    .dataframe tbody tr th {\n",
       "        vertical-align: top;\n",
       "    }\n",
       "\n",
       "    .dataframe thead th {\n",
       "        text-align: right;\n",
       "    }\n",
       "</style>\n",
       "<table border=\"1\" class=\"dataframe\">\n",
       "  <thead>\n",
       "    <tr style=\"text-align: right;\">\n",
       "      <th></th>\n",
       "      <th>Year</th>\n",
       "      <th>Zip Code</th>\n",
       "      <th>Number of Crimes</th>\n",
       "      <th>Crime Rate</th>\n",
       "      <th>ZHVI_AllHomes</th>\n",
       "      <th>Median Home Value</th>\n",
       "    </tr>\n",
       "  </thead>\n",
       "  <tbody>\n",
       "    <tr>\n",
       "      <th>408</th>\n",
       "      <td>2017</td>\n",
       "      <td>78610</td>\n",
       "      <td>4</td>\n",
       "      <td>0.003686</td>\n",
       "      <td>237550.0</td>\n",
       "      <td>200k-300k</td>\n",
       "    </tr>\n",
       "    <tr>\n",
       "      <th>409</th>\n",
       "      <td>2017</td>\n",
       "      <td>78610</td>\n",
       "      <td>4</td>\n",
       "      <td>0.003686</td>\n",
       "      <td>237550.0</td>\n",
       "      <td>200k-300k</td>\n",
       "    </tr>\n",
       "    <tr>\n",
       "      <th>410</th>\n",
       "      <td>2017</td>\n",
       "      <td>78610</td>\n",
       "      <td>4</td>\n",
       "      <td>0.003686</td>\n",
       "      <td>237550.0</td>\n",
       "      <td>200k-300k</td>\n",
       "    </tr>\n",
       "    <tr>\n",
       "      <th>411</th>\n",
       "      <td>2017</td>\n",
       "      <td>78610</td>\n",
       "      <td>4</td>\n",
       "      <td>0.003686</td>\n",
       "      <td>237550.0</td>\n",
       "      <td>200k-300k</td>\n",
       "    </tr>\n",
       "    <tr>\n",
       "      <th>412</th>\n",
       "      <td>2017</td>\n",
       "      <td>78610</td>\n",
       "      <td>4</td>\n",
       "      <td>0.003686</td>\n",
       "      <td>237550.0</td>\n",
       "      <td>200k-300k</td>\n",
       "    </tr>\n",
       "  </tbody>\n",
       "</table>\n",
       "</div>"
      ],
      "text/plain": [
       "     Year  Zip Code  Number of Crimes  Crime Rate  ZHVI_AllHomes  \\\n",
       "408  2017     78610                 4    0.003686       237550.0   \n",
       "409  2017     78610                 4    0.003686       237550.0   \n",
       "410  2017     78610                 4    0.003686       237550.0   \n",
       "411  2017     78610                 4    0.003686       237550.0   \n",
       "412  2017     78610                 4    0.003686       237550.0   \n",
       "\n",
       "    Median Home Value  \n",
       "408         200k-300k  \n",
       "409         200k-300k  \n",
       "410         200k-300k  \n",
       "411         200k-300k  \n",
       "412         200k-300k  "
      ]
     },
     "execution_count": 12,
     "metadata": {},
     "output_type": "execute_result"
    }
   ],
   "source": [
    "new_df.head()"
   ]
  },
  {
   "cell_type": "code",
   "execution_count": 13,
   "metadata": {},
   "outputs": [
    {
     "data": {
      "text/html": [
       "<div>\n",
       "<style scoped>\n",
       "    .dataframe tbody tr th:only-of-type {\n",
       "        vertical-align: middle;\n",
       "    }\n",
       "\n",
       "    .dataframe tbody tr th {\n",
       "        vertical-align: top;\n",
       "    }\n",
       "\n",
       "    .dataframe thead th {\n",
       "        text-align: right;\n",
       "    }\n",
       "</style>\n",
       "<table border=\"1\" class=\"dataframe\">\n",
       "  <thead>\n",
       "    <tr style=\"text-align: right;\">\n",
       "      <th></th>\n",
       "      <th>Number of Crimes</th>\n",
       "    </tr>\n",
       "    <tr>\n",
       "      <th>Median Home Value</th>\n",
       "      <th></th>\n",
       "    </tr>\n",
       "  </thead>\n",
       "  <tbody>\n",
       "    <tr>\n",
       "      <th>100k-200k</th>\n",
       "      <td>8970</td>\n",
       "    </tr>\n",
       "    <tr>\n",
       "      <th>200k-300k</th>\n",
       "      <td>8640</td>\n",
       "    </tr>\n",
       "    <tr>\n",
       "      <th>300k-400k</th>\n",
       "      <td>5762</td>\n",
       "    </tr>\n",
       "    <tr>\n",
       "      <th>400k-500k</th>\n",
       "      <td>8332</td>\n",
       "    </tr>\n",
       "    <tr>\n",
       "      <th>500k-600k</th>\n",
       "      <td>7060</td>\n",
       "    </tr>\n",
       "  </tbody>\n",
       "</table>\n",
       "</div>"
      ],
      "text/plain": [
       "                   Number of Crimes\n",
       "Median Home Value                  \n",
       "100k-200k                      8970\n",
       "200k-300k                      8640\n",
       "300k-400k                      5762\n",
       "400k-500k                      8332\n",
       "500k-600k                      7060"
      ]
     },
     "execution_count": 13,
     "metadata": {},
     "output_type": "execute_result"
    }
   ],
   "source": [
    "df_group = new_df.groupby('Median Home Value')\n",
    "number_crime = df_group[\"Number of Crimes\"].max()\n",
    "crime_rate =  df_group[\"Crime Rate\"].max()\n",
    "crime_rate = crime_rate *100\n",
    "df_graph_one = pd.DataFrame({\"Number of Crimes\": number_crime\n",
    "                                \n",
    "                                   })\n",
    "\n",
    "df_graph_one.head()\n",
    "# Save to csv\n",
    "# df_graph_one.to_csv('not_sure.csv')\n",
    "df_graph_one.head()"
   ]
  },
  {
   "cell_type": "code",
   "execution_count": 14,
   "metadata": {},
   "outputs": [
    {
     "data": {
      "image/png": "[encoded data removed]",
      "text/plain": [
       "<Figure size 432x288 with 1 Axes>"
      ]
     },
     "metadata": {
      "needs_background": "light"
     },
     "output_type": "display_data"
    },
    {
     "data": {
      "text/plain": [
       "<Figure size 432x288 with 0 Axes>"
      ]
     },
     "metadata": {},
     "output_type": "display_data"
    }
   ],
   "source": [
    "bar_chart = df_graph_one.plot(kind=\"bar\", title=\"# of Crimes for Home Value (2017)\")\n",
    "bar_chart.set_xlabel(\"Median Home Value ($)\")\n",
    "bar_chart.set_ylabel(\"# of Crimes\")\n",
    "fig = plt.figure()"
   ]
  },
  {
   "cell_type": "code",
   "execution_count": 15,
   "metadata": {},
   "outputs": [],
   "source": [
    "census_pd.head()\n",
    "census_pd.rename(columns={'Zipcode':'Zip Code'}, \n",
    "                 inplace=True)\n",
    "census_pd['Zip Code'] = census_pd['Zip Code'].astype('int')"
   ]
  },
  {
   "cell_type": "code",
   "execution_count": 16,
   "metadata": {},
   "outputs": [],
   "source": [
    "census_merged = pd.merge(new_df, census_pd, on=['Zip Code'])\n"
   ]
  },
  {
   "cell_type": "code",
   "execution_count": 17,
   "metadata": {},
   "outputs": [
    {
     "data": {
      "text/html": [
       "<div>\n",
       "<style scoped>\n",
       "    .dataframe tbody tr th:only-of-type {\n",
       "        vertical-align: middle;\n",
       "    }\n",
       "\n",
       "    .dataframe tbody tr th {\n",
       "        vertical-align: top;\n",
       "    }\n",
       "\n",
       "    .dataframe thead th {\n",
       "        text-align: right;\n",
       "    }\n",
       "</style>\n",
       "<table border=\"1\" class=\"dataframe\">\n",
       "  <thead>\n",
       "    <tr style=\"text-align: right;\">\n",
       "      <th></th>\n",
       "      <th>Year</th>\n",
       "      <th>Zip Code</th>\n",
       "      <th>Number of Crimes</th>\n",
       "      <th>Crime Rate</th>\n",
       "      <th>ZHVI_AllHomes</th>\n",
       "      <th>Median Home Value</th>\n",
       "      <th>Population</th>\n",
       "      <th>Median Age</th>\n",
       "      <th>Household Income</th>\n",
       "      <th>Per Capita Income</th>\n",
       "      <th>Poverty Count</th>\n",
       "    </tr>\n",
       "  </thead>\n",
       "  <tbody>\n",
       "    <tr>\n",
       "      <th>0</th>\n",
       "      <td>2017</td>\n",
       "      <td>78610</td>\n",
       "      <td>4</td>\n",
       "      <td>0.003686</td>\n",
       "      <td>237550.00</td>\n",
       "      <td>200k-300k</td>\n",
       "      <td>32692.0</td>\n",
       "      <td>34.4</td>\n",
       "      <td>76623.0</td>\n",
       "      <td>31766.0</td>\n",
       "      <td>2412.0</td>\n",
       "    </tr>\n",
       "    <tr>\n",
       "      <th>51</th>\n",
       "      <td>2017</td>\n",
       "      <td>78613</td>\n",
       "      <td>515</td>\n",
       "      <td>0.474576</td>\n",
       "      <td>272958.33</td>\n",
       "      <td>200k-300k</td>\n",
       "      <td>77779.0</td>\n",
       "      <td>35.1</td>\n",
       "      <td>96857.0</td>\n",
       "      <td>38378.0</td>\n",
       "      <td>2943.0</td>\n",
       "    </tr>\n",
       "    <tr>\n",
       "      <th>5010</th>\n",
       "      <td>2017</td>\n",
       "      <td>78617</td>\n",
       "      <td>1018</td>\n",
       "      <td>0.938093</td>\n",
       "      <td>171641.67</td>\n",
       "      <td>100k-200k</td>\n",
       "      <td>27900.0</td>\n",
       "      <td>29.6</td>\n",
       "      <td>52819.0</td>\n",
       "      <td>18598.0</td>\n",
       "      <td>4815.0</td>\n",
       "    </tr>\n",
       "    <tr>\n",
       "      <th>15360</th>\n",
       "      <td>2017</td>\n",
       "      <td>78641</td>\n",
       "      <td>1</td>\n",
       "      <td>0.000922</td>\n",
       "      <td>222066.67</td>\n",
       "      <td>200k-300k</td>\n",
       "      <td>60135.0</td>\n",
       "      <td>34.7</td>\n",
       "      <td>88562.0</td>\n",
       "      <td>35246.0</td>\n",
       "      <td>3892.0</td>\n",
       "    </tr>\n",
       "    <tr>\n",
       "      <th>15375</th>\n",
       "      <td>2017</td>\n",
       "      <td>78664</td>\n",
       "      <td>2</td>\n",
       "      <td>0.001843</td>\n",
       "      <td>199175.00</td>\n",
       "      <td>100k-200k</td>\n",
       "      <td>61361.0</td>\n",
       "      <td>33.0</td>\n",
       "      <td>67462.0</td>\n",
       "      <td>29552.0</td>\n",
       "      <td>6366.0</td>\n",
       "    </tr>\n",
       "  </tbody>\n",
       "</table>\n",
       "</div>"
      ],
      "text/plain": [
       "       Year  Zip Code  Number of Crimes  Crime Rate  ZHVI_AllHomes  \\\n",
       "0      2017     78610                 4    0.003686      237550.00   \n",
       "51     2017     78613               515    0.474576      272958.33   \n",
       "5010   2017     78617              1018    0.938093      171641.67   \n",
       "15360  2017     78641                 1    0.000922      222066.67   \n",
       "15375  2017     78664                 2    0.001843      199175.00   \n",
       "\n",
       "      Median Home Value  Population  Median Age  Household Income  \\\n",
       "0             200k-300k     32692.0        34.4           76623.0   \n",
       "51            200k-300k     77779.0        35.1           96857.0   \n",
       "5010          100k-200k     27900.0        29.6           52819.0   \n",
       "15360         200k-300k     60135.0        34.7           88562.0   \n",
       "15375         100k-200k     61361.0        33.0           67462.0   \n",
       "\n",
       "       Per Capita Income  Poverty Count  \n",
       "0                31766.0         2412.0  \n",
       "51               38378.0         2943.0  \n",
       "5010             18598.0         4815.0  \n",
       "15360            35246.0         3892.0  \n",
       "15375            29552.0         6366.0  "
      ]
     },
     "execution_count": 17,
     "metadata": {},
     "output_type": "execute_result"
    }
   ],
   "source": [
    "census_merged = census_merged.drop_duplicates(subset=['Zip Code'], keep='first')\n",
    "census_merged.head()"
   ]
  },
  {
   "cell_type": "code",
   "execution_count": 18,
   "metadata": {},
   "outputs": [],
   "source": [
    "bin_two = [0, 19999, 29999, 39999, 49999, 59999, 69999, 799999]\n",
    "group_labels_two = [\"<20k\", \"20k-30k\", \"30k-40k\", \"40k-50k\", \"50k-60k\",\n",
    "                \"60k-70k\", \"<700k\"]\n",
    "# df_graph_two.to_csv('not_sure.csv')\n",
    "census_merged[\"Population Range\"] = pd.cut(census_merged[\"Population\"], bin_two, labels=group_labels_two)"
   ]
  },
  {
   "cell_type": "code",
   "execution_count": 19,
   "metadata": {},
   "outputs": [
    {
     "data": {
      "text/html": [
       "<div>\n",
       "<style scoped>\n",
       "    .dataframe tbody tr th:only-of-type {\n",
       "        vertical-align: middle;\n",
       "    }\n",
       "\n",
       "    .dataframe tbody tr th {\n",
       "        vertical-align: top;\n",
       "    }\n",
       "\n",
       "    .dataframe thead th {\n",
       "        text-align: right;\n",
       "    }\n",
       "</style>\n",
       "<table border=\"1\" class=\"dataframe\">\n",
       "  <thead>\n",
       "    <tr style=\"text-align: right;\">\n",
       "      <th></th>\n",
       "      <th>Year</th>\n",
       "      <th>Zip Code</th>\n",
       "      <th>Number of Crimes</th>\n",
       "      <th>Crime Rate</th>\n",
       "      <th>ZHVI_AllHomes</th>\n",
       "      <th>Median Home Value</th>\n",
       "      <th>Population</th>\n",
       "      <th>Median Age</th>\n",
       "      <th>Household Income</th>\n",
       "      <th>Per Capita Income</th>\n",
       "      <th>Poverty Count</th>\n",
       "      <th>Population Range</th>\n",
       "    </tr>\n",
       "  </thead>\n",
       "  <tbody>\n",
       "    <tr>\n",
       "      <th>0</th>\n",
       "      <td>2017</td>\n",
       "      <td>78610</td>\n",
       "      <td>4</td>\n",
       "      <td>0.003686</td>\n",
       "      <td>237550.00</td>\n",
       "      <td>200k-300k</td>\n",
       "      <td>32692.0</td>\n",
       "      <td>34.4</td>\n",
       "      <td>76623.0</td>\n",
       "      <td>31766.0</td>\n",
       "      <td>2412.0</td>\n",
       "      <td>30k-40k</td>\n",
       "    </tr>\n",
       "    <tr>\n",
       "      <th>51</th>\n",
       "      <td>2017</td>\n",
       "      <td>78613</td>\n",
       "      <td>515</td>\n",
       "      <td>0.474576</td>\n",
       "      <td>272958.33</td>\n",
       "      <td>200k-300k</td>\n",
       "      <td>77779.0</td>\n",
       "      <td>35.1</td>\n",
       "      <td>96857.0</td>\n",
       "      <td>38378.0</td>\n",
       "      <td>2943.0</td>\n",
       "      <td>&lt;700k</td>\n",
       "    </tr>\n",
       "    <tr>\n",
       "      <th>5010</th>\n",
       "      <td>2017</td>\n",
       "      <td>78617</td>\n",
       "      <td>1018</td>\n",
       "      <td>0.938093</td>\n",
       "      <td>171641.67</td>\n",
       "      <td>100k-200k</td>\n",
       "      <td>27900.0</td>\n",
       "      <td>29.6</td>\n",
       "      <td>52819.0</td>\n",
       "      <td>18598.0</td>\n",
       "      <td>4815.0</td>\n",
       "      <td>20k-30k</td>\n",
       "    </tr>\n",
       "    <tr>\n",
       "      <th>15360</th>\n",
       "      <td>2017</td>\n",
       "      <td>78641</td>\n",
       "      <td>1</td>\n",
       "      <td>0.000922</td>\n",
       "      <td>222066.67</td>\n",
       "      <td>200k-300k</td>\n",
       "      <td>60135.0</td>\n",
       "      <td>34.7</td>\n",
       "      <td>88562.0</td>\n",
       "      <td>35246.0</td>\n",
       "      <td>3892.0</td>\n",
       "      <td>60k-70k</td>\n",
       "    </tr>\n",
       "    <tr>\n",
       "      <th>15375</th>\n",
       "      <td>2017</td>\n",
       "      <td>78664</td>\n",
       "      <td>2</td>\n",
       "      <td>0.001843</td>\n",
       "      <td>199175.00</td>\n",
       "      <td>100k-200k</td>\n",
       "      <td>61361.0</td>\n",
       "      <td>33.0</td>\n",
       "      <td>67462.0</td>\n",
       "      <td>29552.0</td>\n",
       "      <td>6366.0</td>\n",
       "      <td>60k-70k</td>\n",
       "    </tr>\n",
       "  </tbody>\n",
       "</table>\n",
       "</div>"
      ],
      "text/plain": [
       "       Year  Zip Code  Number of Crimes  Crime Rate  ZHVI_AllHomes  \\\n",
       "0      2017     78610                 4    0.003686      237550.00   \n",
       "51     2017     78613               515    0.474576      272958.33   \n",
       "5010   2017     78617              1018    0.938093      171641.67   \n",
       "15360  2017     78641                 1    0.000922      222066.67   \n",
       "15375  2017     78664                 2    0.001843      199175.00   \n",
       "\n",
       "      Median Home Value  Population  Median Age  Household Income  \\\n",
       "0             200k-300k     32692.0        34.4           76623.0   \n",
       "51            200k-300k     77779.0        35.1           96857.0   \n",
       "5010          100k-200k     27900.0        29.6           52819.0   \n",
       "15360         200k-300k     60135.0        34.7           88562.0   \n",
       "15375         100k-200k     61361.0        33.0           67462.0   \n",
       "\n",
       "       Per Capita Income  Poverty Count Population Range  \n",
       "0                31766.0         2412.0          30k-40k  \n",
       "51               38378.0         2943.0            <700k  \n",
       "5010             18598.0         4815.0          20k-30k  \n",
       "15360            35246.0         3892.0          60k-70k  \n",
       "15375            29552.0         6366.0          60k-70k  "
      ]
     },
     "execution_count": 19,
     "metadata": {},
     "output_type": "execute_result"
    }
   ],
   "source": [
    "# census_merged.to_csv('population.csv')\n",
    "census_merged.head()"
   ]
  },
  {
   "cell_type": "code",
   "execution_count": 20,
   "metadata": {},
   "outputs": [
    {
     "data": {
      "text/html": [
       "<div>\n",
       "<style scoped>\n",
       "    .dataframe tbody tr th:only-of-type {\n",
       "        vertical-align: middle;\n",
       "    }\n",
       "\n",
       "    .dataframe tbody tr th {\n",
       "        vertical-align: top;\n",
       "    }\n",
       "\n",
       "    .dataframe thead th {\n",
       "        text-align: right;\n",
       "    }\n",
       "</style>\n",
       "<table border=\"1\" class=\"dataframe\">\n",
       "  <thead>\n",
       "    <tr style=\"text-align: right;\">\n",
       "      <th></th>\n",
       "      <th>Number of Crimes</th>\n",
       "    </tr>\n",
       "    <tr>\n",
       "      <th>Population Range</th>\n",
       "      <th></th>\n",
       "    </tr>\n",
       "  </thead>\n",
       "  <tbody>\n",
       "    <tr>\n",
       "      <th>&lt;20k</th>\n",
       "      <td>16650</td>\n",
       "    </tr>\n",
       "    <tr>\n",
       "      <th>20k-30k</th>\n",
       "      <td>21512</td>\n",
       "    </tr>\n",
       "    <tr>\n",
       "      <th>30k-40k</th>\n",
       "      <td>7594</td>\n",
       "    </tr>\n",
       "    <tr>\n",
       "      <th>40k-50k</th>\n",
       "      <td>28085</td>\n",
       "    </tr>\n",
       "    <tr>\n",
       "      <th>50k-60k</th>\n",
       "      <td>17622</td>\n",
       "    </tr>\n",
       "  </tbody>\n",
       "</table>\n",
       "</div>"
      ],
      "text/plain": [
       "                  Number of Crimes\n",
       "Population Range                  \n",
       "<20k                         16650\n",
       "20k-30k                      21512\n",
       "30k-40k                       7594\n",
       "40k-50k                      28085\n",
       "50k-60k                      17622"
      ]
     },
     "execution_count": 20,
     "metadata": {},
     "output_type": "execute_result"
    }
   ],
   "source": [
    "cen_group = census_merged.groupby('Population Range')\n",
    "number_crimes = cen_group[\"Number of Crimes\"].sum()\n",
    "df_graph_two = pd.DataFrame({\"Number of Crimes\":number_crimes\n",
    "                                   })\n",
    "\n",
    "df_graph_two.head()"
   ]
  },
  {
   "cell_type": "code",
   "execution_count": 24,
   "metadata": {},
   "outputs": [
    {
     "data": {
      "image/png": "[encoded data removed]",
      "text/plain": [
       "<Figure size 432x288 with 1 Axes>"
      ]
     },
     "metadata": {
      "needs_background": "light"
     },
     "output_type": "display_data"
    },
    {
     "data": {
      "text/plain": [
       "<Figure size 432x288 with 0 Axes>"
      ]
     },
     "metadata": {},
     "output_type": "display_data"
    }
   ],
   "source": [
    "bar_chart = df_graph_two.plot(kind=\"bar\", title=\"# of Crimes for Population Density (2017)\")\n",
    "bar_chart.set_xlabel(\"Zip Code Population\")\n",
    "bar_chart.set_ylabel(\"# of Crimes\")\n",
    "fig = plt.figure()"
   ]
  },
  {
   "cell_type": "code",
   "execution_count": null,
   "metadata": {},
   "outputs": [],
   "source": []
  }
 ],
 "metadata": {
  "kernelspec": {
   "display_name": "Python 3",
   "language": "python",
   "name": "python3"
  },
  "language_info": {
   "codemirror_mode": {
    "name": "ipython",
    "version": 3
   },
   "file_extension": ".py",
   "mimetype": "text/x-python",
   "name": "python",
   "nbconvert_exporter": "python",
   "pygments_lexer": "ipython3",
   "version": "3.7.1"
  }
 },
 "nbformat": 4,
 "nbformat_minor": 2
}
