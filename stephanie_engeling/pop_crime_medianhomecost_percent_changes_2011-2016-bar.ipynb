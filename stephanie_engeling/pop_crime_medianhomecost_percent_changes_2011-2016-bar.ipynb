{
 "cells": [
  {
   "cell_type": "code",
   "execution_count": 1,
   "metadata": {},
   "outputs": [],
   "source": [
    "import pandas as pd\n",
    "import numpy as np\n",
    "import matplotlib.pyplot as plt"
   ]
  },
  {
   "cell_type": "code",
   "execution_count": 2,
   "metadata": {},
   "outputs": [],
   "source": [
    "popcrime_df = pd.read_csv('atx_crime_rates_2011-2016.csv')\n",
    "home_df = pd.read_csv('atx_mean_zhvi_2009-2017.csv')"
   ]
  },
  {
   "cell_type": "code",
   "execution_count": 3,
   "metadata": {},
   "outputs": [],
   "source": [
    "home_df = home_df.rename(index=str, columns={\"Zip Code\": \"zip_code\"})"
   ]
  },
  {
   "cell_type": "code",
   "execution_count": 4,
   "metadata": {},
   "outputs": [],
   "source": [
    "atx_zip_codes = ['78610', '78613', '78617', '78664', '78681', '78701', '78702', '78703', '78704', '78717',\n",
    "                 '78721', '78722', '78723', '78725', '78726', '78727', '78728', '78729', '78731', '78733', '78735',\n",
    "                 '78736', '78738', '78739', '78741', '78744', '78745', '78746', '78748', '78749', '78751', '78752',\n",
    "                 '78753', '78756', '78757', '78758', '78759']\n",
    "home_df = home_df[home_df['zip_code'].isin(atx_zip_codes)]"
   ]
  },
  {
   "cell_type": "code",
   "execution_count": 5,
   "metadata": {},
   "outputs": [],
   "source": [
    "hmask_2011 = [x == 2011 for x in home_df.year]\n",
    "home_df_2011 = home_df[hmask_2011]"
   ]
  },
  {
   "cell_type": "code",
   "execution_count": 6,
   "metadata": {},
   "outputs": [],
   "source": [
    "hmask_2016 = [x == 2016 for x in home_df.year]\n",
    "home_df_2016 = home_df[hmask_2016]"
   ]
  },
  {
   "cell_type": "code",
   "execution_count": 7,
   "metadata": {},
   "outputs": [],
   "source": [
    "merge_years_home = pd.merge(home_df_2011, home_df_2016, on=\"zip_code\")"
   ]
  },
  {
   "cell_type": "code",
   "execution_count": 8,
   "metadata": {},
   "outputs": [],
   "source": [
    "merge_years_home['ZHVI_difference'] = merge_years_home['ZHVI_AllHomes_y'] - merge_years_home['ZHVI_AllHomes_x']"
   ]
  },
  {
   "cell_type": "code",
   "execution_count": 9,
   "metadata": {},
   "outputs": [],
   "source": [
    "merge_years_home['ZHVI_percent_change'] = merge_years_home['ZHVI_difference'] / merge_years_home['ZHVI_AllHomes_x'] * 100"
   ]
  },
  {
   "cell_type": "code",
   "execution_count": 10,
   "metadata": {},
   "outputs": [],
   "source": [
    "merge_years_home['ZHVI_percent_change'] = merge_years_home['ZHVI_percent_change'].round(2)"
   ]
  },
  {
   "cell_type": "code",
   "execution_count": 11,
   "metadata": {},
   "outputs": [],
   "source": [
    "popcrime_df = popcrime_df.rename(index=str, columns={\"Zip Code\": \"zip_code\",\n",
    "                                                  \"Reports\": \"reports\",\n",
    "                                                  \"Population\": \"population\",\n",
    "                                                  \"Crime Rate per 100,000 people\": \"crime_rate_per_100,000_people\",\n",
    "                                                 })"
   ]
  },
  {
   "cell_type": "code",
   "execution_count": 12,
   "metadata": {},
   "outputs": [],
   "source": [
    "atx_zip_codes = ['78610', '78613', '78617', '78664', '78681', '78701', '78702', '78703', '78704', '78717',\n",
    "                 '78721', '78722', '78723', '78725', '78726', '78727', '78728', '78729', '78731', '78733', '78735',\n",
    "                 '78736', '78738', '78739', '78741', '78744', '78745', '78746', '78748', '78749', '78751', '78752',\n",
    "                 '78753', '78756', '78757', '78758', '78759']\n",
    "popcrime_df = popcrime_df[popcrime_df['zip_code'].isin(atx_zip_codes)]"
   ]
  },
  {
   "cell_type": "code",
   "execution_count": 13,
   "metadata": {},
   "outputs": [],
   "source": [
    "pcmask_2011 = [x == 2011 for x in popcrime_df.year]\n",
    "popcrime_df_2011 = popcrime_df[pcmask_2011]"
   ]
  },
  {
   "cell_type": "code",
   "execution_count": 14,
   "metadata": {},
   "outputs": [],
   "source": [
    "pcmask_2016 = [x == 2016 for x in popcrime_df.year]\n",
    "popcrime_df_2016 = popcrime_df[pcmask_2016]"
   ]
  },
  {
   "cell_type": "code",
   "execution_count": 15,
   "metadata": {},
   "outputs": [],
   "source": [
    "popcrime_df_2011 = popcrime_df_2011.drop(['crime_rate_per_100,000_people'], axis=1)\n",
    "popcrime_df_2011 = popcrime_df_2011.rename(index=str, columns={\"reports\": \"#_of_crimes\",})"
   ]
  },
  {
   "cell_type": "code",
   "execution_count": 16,
   "metadata": {},
   "outputs": [],
   "source": [
    "popcrime_df_2016 = popcrime_df_2016.drop(['crime_rate_per_100,000_people'], axis=1)\n",
    "popcrime_df_2016 = popcrime_df_2016.rename(index=str, columns={\"reports\": \"#_of_crimes\",})"
   ]
  },
  {
   "cell_type": "code",
   "execution_count": 17,
   "metadata": {},
   "outputs": [],
   "source": [
    "merge_years_popcrime = pd.merge(popcrime_df_2011, popcrime_df_2016, on=\"zip_code\")"
   ]
  },
  {
   "cell_type": "code",
   "execution_count": 18,
   "metadata": {},
   "outputs": [],
   "source": [
    "merge_years_popcrime['population_difference'] = merge_years_popcrime['population_y'] - merge_years_popcrime['population_x']"
   ]
  },
  {
   "cell_type": "code",
   "execution_count": 19,
   "metadata": {},
   "outputs": [],
   "source": [
    "merge_years_popcrime['#_of_crimes_difference'] = merge_years_popcrime['#_of_crimes_y'] - merge_years_popcrime['#_of_crimes_x']"
   ]
  },
  {
   "cell_type": "code",
   "execution_count": 20,
   "metadata": {},
   "outputs": [],
   "source": [
    "merge_years_popcrime['population_percent_change'] = merge_years_popcrime['population_difference'] / merge_years_popcrime['population_x'] * 100"
   ]
  },
  {
   "cell_type": "code",
   "execution_count": 21,
   "metadata": {},
   "outputs": [],
   "source": [
    "merge_years_popcrime['population_percent_change'] = merge_years_popcrime['population_percent_change'].round(2)"
   ]
  },
  {
   "cell_type": "code",
   "execution_count": 22,
   "metadata": {},
   "outputs": [],
   "source": [
    "merge_years_popcrime['crimes_percent_change'] = merge_years_popcrime['#_of_crimes_difference'] / merge_years_popcrime['#_of_crimes_x'] * 100"
   ]
  },
  {
   "cell_type": "code",
   "execution_count": 23,
   "metadata": {},
   "outputs": [],
   "source": [
    "merge_years_popcrime['crimes_percent_change'] = merge_years_popcrime['crimes_percent_change'].round(2)"
   ]
  },
  {
   "cell_type": "code",
   "execution_count": 24,
   "metadata": {},
   "outputs": [],
   "source": [
    "merge_years_popcrimecost = pd.merge(merge_years_popcrime, merge_years_home, on=\"zip_code\")"
   ]
  },
  {
   "cell_type": "code",
   "execution_count": 25,
   "metadata": {},
   "outputs": [],
   "source": [
    "merge_years_popcrimecost['zip_code'] = merge_years_popcrimecost.zip_code.astype(str)"
   ]
  },
  {
   "cell_type": "code",
   "execution_count": 26,
   "metadata": {},
   "outputs": [],
   "source": [
    "x_axis_1 = []\n",
    "counter = 1\n",
    "for i in range(0,37,1):\n",
    "    x_axis_1.append(counter)\n",
    "    counter += 4"
   ]
  },
  {
   "cell_type": "code",
   "execution_count": 27,
   "metadata": {},
   "outputs": [],
   "source": [
    "x_axis_2 = []\n",
    "counter = 2\n",
    "for i in range(0,37,1):\n",
    "    x_axis_2.append(counter)\n",
    "    counter += 4"
   ]
  },
  {
   "cell_type": "code",
   "execution_count": 28,
   "metadata": {},
   "outputs": [],
   "source": [
    "x_axis_3 = []\n",
    "counter = 3\n",
    "for i in range(0,37,1):\n",
    "    x_axis_3.append(counter)\n",
    "    counter += 4"
   ]
  },
  {
   "cell_type": "code",
   "execution_count": 29,
   "metadata": {},
   "outputs": [],
   "source": [
    "ticks = []\n",
    "counter = 4\n",
    "for i in range(0,37,1):\n",
    "    ticks.append(counter)\n",
    "    counter += 4"
   ]
  },
  {
   "cell_type": "code",
   "execution_count": 30,
   "metadata": {},
   "outputs": [
    {
     "data": {
      "text/plain": [
       "37"
      ]
     },
     "execution_count": 30,
     "metadata": {},
     "output_type": "execute_result"
    }
   ],
   "source": [
    "# len(x_axis_1)\n",
    "# len(x_axis_2)\n",
    "len(ticks)"
   ]
  },
  {
   "cell_type": "code",
   "execution_count": 31,
   "metadata": {},
   "outputs": [
    {
     "data": {
      "image/png": "[encoded data removed]",
      "text/plain": [
       "<Figure size 1080x504 with 1 Axes>"
      ]
     },
     "metadata": {
      "needs_background": "light"
     },
     "output_type": "display_data"
    }
   ],
   "source": [
    "perc_change_cost = merge_years_popcrimecost['ZHVI_percent_change']\n",
    "perc_change_pop = merge_years_popcrimecost['population_percent_change']\n",
    "perc_change_crime = merge_years_popcrimecost['crimes_percent_change']\n",
    "\n",
    "zip_code_all = merge_years_popcrimecost['zip_code']\n",
    " \n",
    "# Create bars\n",
    "plt.bar(x_axis_1, perc_change_cost, color='orange', alpha=1, label=\"Home Cost\")\n",
    "plt.bar(x_axis_2, perc_change_pop, color='blue', alpha=1, label=\"Population\")\n",
    "plt.bar(x_axis_3, perc_change_crime, color='olive', alpha=1, label=\"Crime\")\n",
    " \n",
    "# Create names on the x-axis\n",
    "plt.xticks(ticks, zip_code_all, rotation=45)\n",
    "plt.xlabel(\"Austin, TX Zip Codes\")\n",
    "plt.ylabel(\"Percent Change from 2011-2016 (%)\")\n",
    "plt.title(\"Percent Change of Population, Crimes, and Median Home Cost by Austin, TX Zip Code (2011-2016)\")\n",
    "plt.legend()\n",
    "\n",
    "plt.axhline(0, color='black', linewidth=2)\n",
    "plt.grid(axis='x')\n",
    "\n",
    "fig = plt.gcf()\n",
    "fig.set_size_inches(15,7)\n",
    "\n",
    "plt.savefig('popcrimecostpercentchangeBARTEST.png')\n",
    "# Show graphic\n",
    "plt.show()"
   ]
  },
  {
   "cell_type": "markdown",
   "metadata": {},
   "source": [
    "Overall, population and median home cost in Austin increased between 2011 and 2016.\n",
    "There appears to be similarities in the rate of increase for both population and median home cost.\n",
    "Overall, crime decreased across most of the Austin zip codes.\n",
    "There is no visibile relationship between the crime and the median home cost"
   ]
  },
  {
   "cell_type": "code",
   "execution_count": 32,
   "metadata": {},
   "outputs": [],
   "source": [
    "merge_years_popcrimecost = merge_years_popcrimecost.drop(['year_x_x', 'zip_code', '#_of_crimes_x', 'population_x', 'year_y_x',\n",
    "       '#_of_crimes_y', 'population_y', 'population_difference',\n",
    "       '#_of_crimes_difference', 'year_x_y', 'ZHVI_AllHomes_x', 'year_y_y',\n",
    "       'ZHVI_AllHomes_y', 'ZHVI_difference'], axis=1)"
   ]
  },
  {
   "cell_type": "code",
   "execution_count": 33,
   "metadata": {},
   "outputs": [
    {
     "data": {
      "image/png": "[encoded data removed]",
      "text/plain": [
       "<Figure size 720x720 with 2 Axes>"
      ]
     },
     "metadata": {
      "needs_background": "light"
     },
     "output_type": "display_data"
    }
   ],
   "source": [
    "plt.matshow(merge_years_popcrimecost.corr())\n",
    "plt.xticks(range(len(merge_years_popcrimecost.columns)), merge_years_popcrimecost.columns)\n",
    "plt.yticks(range(len(merge_years_popcrimecost.columns)), merge_years_popcrimecost.columns)\n",
    "plt.colorbar()\n",
    "\n",
    "fig = plt.gcf()\n",
    "fig.set_size_inches(10,10)\n",
    "\n",
    "plt.savefig('popcrimecostpercentchangecorr.png')\n",
    "\n",
    "plt.show()"
   ]
  },
  {
   "cell_type": "code",
   "execution_count": null,
   "metadata": {},
   "outputs": [],
   "source": []
  },
  {
   "cell_type": "code",
   "execution_count": null,
   "metadata": {},
   "outputs": [],
   "source": []
  }
 ],
 "metadata": {
  "kernelspec": {
   "display_name": "Python 3",
   "language": "python",
   "name": "python3"
  },
  "language_info": {
   "codemirror_mode": {
    "name": "ipython",
    "version": 3
   },
   "file_extension": ".py",
   "mimetype": "text/x-python",
   "name": "python",
   "nbconvert_exporter": "python",
   "pygments_lexer": "ipython3",
   "version": "3.7.1"
  }
 },
 "nbformat": 4,
 "nbformat_minor": 2
}
