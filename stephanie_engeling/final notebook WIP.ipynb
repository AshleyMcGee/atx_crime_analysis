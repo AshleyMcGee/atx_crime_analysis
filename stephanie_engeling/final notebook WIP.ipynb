{
 "cells": [
  {
   "cell_type": "code",
   "execution_count": 1,
   "metadata": {},
   "outputs": [],
   "source": [
    "################################################################\n",
    "# For documentation on the Zip_time_series.csv file, refer to  #\n",
    "# https://www.kaggle.com/zillow/zecon#Zip_time_series.csv      #\n",
    "# The file may also be downloaded from here                    #\n",
    "################################################################\n",
    "\n",
    "# Dependencies\n",
    "import pandas as pd\n",
    "import numpy as np\n",
    "from usefuls import atx_zip_codes, census_key, zipcode_tabulation_area\n",
    "import requests\n",
    "from census import Census"
   ]
  },
  {
   "cell_type": "code",
   "execution_count": 2,
   "metadata": {
    "scrolled": true
   },
   "outputs": [
    {
     "data": {
      "text/html": [
       "<div>\n",
       "<style scoped>\n",
       "    .dataframe tbody tr th:only-of-type {\n",
       "        vertical-align: middle;\n",
       "    }\n",
       "\n",
       "    .dataframe tbody tr th {\n",
       "        vertical-align: top;\n",
       "    }\n",
       "\n",
       "    .dataframe thead th {\n",
       "        text-align: right;\n",
       "    }\n",
       "</style>\n",
       "<table border=\"1\" class=\"dataframe\">\n",
       "  <thead>\n",
       "    <tr style=\"text-align: right;\">\n",
       "      <th></th>\n",
       "      <th>Date</th>\n",
       "      <th>RegionName</th>\n",
       "      <th>InventorySeasonallyAdjusted_AllHomes</th>\n",
       "      <th>InventoryRaw_AllHomes</th>\n",
       "      <th>MedianListingPricePerSqft_1Bedroom</th>\n",
       "      <th>MedianListingPricePerSqft_2Bedroom</th>\n",
       "      <th>MedianListingPricePerSqft_3Bedroom</th>\n",
       "      <th>MedianListingPricePerSqft_4Bedroom</th>\n",
       "      <th>MedianListingPricePerSqft_5BedroomOrMore</th>\n",
       "      <th>MedianListingPricePerSqft_AllHomes</th>\n",
       "      <th>...</th>\n",
       "      <th>ZHVI_BottomTier</th>\n",
       "      <th>ZHVI_CondoCoop</th>\n",
       "      <th>ZHVI_MiddleTier</th>\n",
       "      <th>ZHVI_SingleFamilyResidence</th>\n",
       "      <th>ZHVI_TopTier</th>\n",
       "      <th>ZRI_AllHomes</th>\n",
       "      <th>ZRI_AllHomesPlusMultifamily</th>\n",
       "      <th>ZriPerSqft_AllHomes</th>\n",
       "      <th>Zri_MultiFamilyResidenceRental</th>\n",
       "      <th>Zri_SingleFamilyResidenceRental</th>\n",
       "    </tr>\n",
       "  </thead>\n",
       "  <tbody>\n",
       "    <tr>\n",
       "      <th>0</th>\n",
       "      <td>1996-04-30</td>\n",
       "      <td>1001</td>\n",
       "      <td>NaN</td>\n",
       "      <td>NaN</td>\n",
       "      <td>NaN</td>\n",
       "      <td>NaN</td>\n",
       "      <td>NaN</td>\n",
       "      <td>NaN</td>\n",
       "      <td>NaN</td>\n",
       "      <td>NaN</td>\n",
       "      <td>...</td>\n",
       "      <td>68700.0</td>\n",
       "      <td>67000.0</td>\n",
       "      <td>101900.0</td>\n",
       "      <td>107000.0</td>\n",
       "      <td>124800.0</td>\n",
       "      <td>NaN</td>\n",
       "      <td>NaN</td>\n",
       "      <td>NaN</td>\n",
       "      <td>NaN</td>\n",
       "      <td>NaN</td>\n",
       "    </tr>\n",
       "    <tr>\n",
       "      <th>1</th>\n",
       "      <td>1996-04-30</td>\n",
       "      <td>1002</td>\n",
       "      <td>NaN</td>\n",
       "      <td>NaN</td>\n",
       "      <td>NaN</td>\n",
       "      <td>NaN</td>\n",
       "      <td>NaN</td>\n",
       "      <td>NaN</td>\n",
       "      <td>NaN</td>\n",
       "      <td>NaN</td>\n",
       "      <td>...</td>\n",
       "      <td>97000.0</td>\n",
       "      <td>81300.0</td>\n",
       "      <td>135200.0</td>\n",
       "      <td>145800.0</td>\n",
       "      <td>213600.0</td>\n",
       "      <td>NaN</td>\n",
       "      <td>NaN</td>\n",
       "      <td>NaN</td>\n",
       "      <td>NaN</td>\n",
       "      <td>NaN</td>\n",
       "    </tr>\n",
       "    <tr>\n",
       "      <th>2</th>\n",
       "      <td>1996-04-30</td>\n",
       "      <td>1005</td>\n",
       "      <td>NaN</td>\n",
       "      <td>NaN</td>\n",
       "      <td>NaN</td>\n",
       "      <td>NaN</td>\n",
       "      <td>NaN</td>\n",
       "      <td>NaN</td>\n",
       "      <td>NaN</td>\n",
       "      <td>NaN</td>\n",
       "      <td>...</td>\n",
       "      <td>85400.0</td>\n",
       "      <td>NaN</td>\n",
       "      <td>101200.0</td>\n",
       "      <td>101200.0</td>\n",
       "      <td>125700.0</td>\n",
       "      <td>NaN</td>\n",
       "      <td>NaN</td>\n",
       "      <td>NaN</td>\n",
       "      <td>NaN</td>\n",
       "      <td>NaN</td>\n",
       "    </tr>\n",
       "    <tr>\n",
       "      <th>3</th>\n",
       "      <td>1996-04-30</td>\n",
       "      <td>1007</td>\n",
       "      <td>NaN</td>\n",
       "      <td>NaN</td>\n",
       "      <td>NaN</td>\n",
       "      <td>NaN</td>\n",
       "      <td>NaN</td>\n",
       "      <td>NaN</td>\n",
       "      <td>NaN</td>\n",
       "      <td>NaN</td>\n",
       "      <td>...</td>\n",
       "      <td>97900.0</td>\n",
       "      <td>87600.0</td>\n",
       "      <td>124000.0</td>\n",
       "      <td>125000.0</td>\n",
       "      <td>162100.0</td>\n",
       "      <td>NaN</td>\n",
       "      <td>NaN</td>\n",
       "      <td>NaN</td>\n",
       "      <td>NaN</td>\n",
       "      <td>NaN</td>\n",
       "    </tr>\n",
       "    <tr>\n",
       "      <th>4</th>\n",
       "      <td>1996-04-30</td>\n",
       "      <td>1008</td>\n",
       "      <td>NaN</td>\n",
       "      <td>NaN</td>\n",
       "      <td>NaN</td>\n",
       "      <td>NaN</td>\n",
       "      <td>NaN</td>\n",
       "      <td>NaN</td>\n",
       "      <td>NaN</td>\n",
       "      <td>NaN</td>\n",
       "      <td>...</td>\n",
       "      <td>81100.0</td>\n",
       "      <td>NaN</td>\n",
       "      <td>109300.0</td>\n",
       "      <td>109300.0</td>\n",
       "      <td>148100.0</td>\n",
       "      <td>NaN</td>\n",
       "      <td>NaN</td>\n",
       "      <td>NaN</td>\n",
       "      <td>NaN</td>\n",
       "      <td>NaN</td>\n",
       "    </tr>\n",
       "  </tbody>\n",
       "</table>\n",
       "<p>5 rows × 76 columns</p>\n",
       "</div>"
      ],
      "text/plain": [
       "         Date  RegionName  InventorySeasonallyAdjusted_AllHomes  \\\n",
       "0  1996-04-30        1001                                   NaN   \n",
       "1  1996-04-30        1002                                   NaN   \n",
       "2  1996-04-30        1005                                   NaN   \n",
       "3  1996-04-30        1007                                   NaN   \n",
       "4  1996-04-30        1008                                   NaN   \n",
       "\n",
       "   InventoryRaw_AllHomes  MedianListingPricePerSqft_1Bedroom  \\\n",
       "0                    NaN                                 NaN   \n",
       "1                    NaN                                 NaN   \n",
       "2                    NaN                                 NaN   \n",
       "3                    NaN                                 NaN   \n",
       "4                    NaN                                 NaN   \n",
       "\n",
       "   MedianListingPricePerSqft_2Bedroom  MedianListingPricePerSqft_3Bedroom  \\\n",
       "0                                 NaN                                 NaN   \n",
       "1                                 NaN                                 NaN   \n",
       "2                                 NaN                                 NaN   \n",
       "3                                 NaN                                 NaN   \n",
       "4                                 NaN                                 NaN   \n",
       "\n",
       "   MedianListingPricePerSqft_4Bedroom  \\\n",
       "0                                 NaN   \n",
       "1                                 NaN   \n",
       "2                                 NaN   \n",
       "3                                 NaN   \n",
       "4                                 NaN   \n",
       "\n",
       "   MedianListingPricePerSqft_5BedroomOrMore  \\\n",
       "0                                       NaN   \n",
       "1                                       NaN   \n",
       "2                                       NaN   \n",
       "3                                       NaN   \n",
       "4                                       NaN   \n",
       "\n",
       "   MedianListingPricePerSqft_AllHomes               ...                 \\\n",
       "0                                 NaN               ...                  \n",
       "1                                 NaN               ...                  \n",
       "2                                 NaN               ...                  \n",
       "3                                 NaN               ...                  \n",
       "4                                 NaN               ...                  \n",
       "\n",
       "   ZHVI_BottomTier  ZHVI_CondoCoop  ZHVI_MiddleTier  \\\n",
       "0          68700.0         67000.0         101900.0   \n",
       "1          97000.0         81300.0         135200.0   \n",
       "2          85400.0             NaN         101200.0   \n",
       "3          97900.0         87600.0         124000.0   \n",
       "4          81100.0             NaN         109300.0   \n",
       "\n",
       "   ZHVI_SingleFamilyResidence  ZHVI_TopTier  ZRI_AllHomes  \\\n",
       "0                    107000.0      124800.0           NaN   \n",
       "1                    145800.0      213600.0           NaN   \n",
       "2                    101200.0      125700.0           NaN   \n",
       "3                    125000.0      162100.0           NaN   \n",
       "4                    109300.0      148100.0           NaN   \n",
       "\n",
       "   ZRI_AllHomesPlusMultifamily  ZriPerSqft_AllHomes  \\\n",
       "0                          NaN                  NaN   \n",
       "1                          NaN                  NaN   \n",
       "2                          NaN                  NaN   \n",
       "3                          NaN                  NaN   \n",
       "4                          NaN                  NaN   \n",
       "\n",
       "   Zri_MultiFamilyResidenceRental  Zri_SingleFamilyResidenceRental  \n",
       "0                             NaN                              NaN  \n",
       "1                             NaN                              NaN  \n",
       "2                             NaN                              NaN  \n",
       "3                             NaN                              NaN  \n",
       "4                             NaN                              NaN  \n",
       "\n",
       "[5 rows x 76 columns]"
      ]
     },
     "execution_count": 2,
     "metadata": {},
     "output_type": "execute_result"
    }
   ],
   "source": [
    "# Import file as dataframe and preview\n",
    "# .csv file needs to be in same directory as this file.\n",
    "df = pd.read_csv('Zip_time_series.csv')\n",
    "\n",
    "df.head()"
   ]
  },
  {
   "cell_type": "code",
   "execution_count": 3,
   "metadata": {},
   "outputs": [],
   "source": [
    "# Rename RegionName to zipcode because that's what it is\n",
    "df = df.rename(columns={'RegionName': 'zip_code'})"
   ]
  },
  {
   "cell_type": "code",
   "execution_count": 4,
   "metadata": {},
   "outputs": [],
   "source": [
    "# Filter out all non-Austin area zipcodes\n",
    "df = df[[(x in atx_zip_codes) for x in df['zip_code']]]"
   ]
  },
  {
   "cell_type": "code",
   "execution_count": 5,
   "metadata": {},
   "outputs": [],
   "source": [
    "# Add year column to dataframe\n",
    "df['year'] = df['Date'].apply(lambda s : int(s[:4]))"
   ]
  },
  {
   "cell_type": "code",
   "execution_count": 6,
   "metadata": {},
   "outputs": [],
   "source": [
    "# Filter out all years before 2009\n",
    "df = df[df['year'] >= 2009]"
   ]
  },
  {
   "cell_type": "code",
   "execution_count": 7,
   "metadata": {},
   "outputs": [],
   "source": [
    "# Now, take out everything except year, zipcode, and Zillow Home Value Index for all homes \n",
    "mask = ['year', 'zip_code', 'ZHVI_AllHomes']\n",
    "df = df[mask]"
   ]
  },
  {
   "cell_type": "code",
   "execution_count": 8,
   "metadata": {},
   "outputs": [],
   "source": [
    "df = df.dropna()"
   ]
  },
  {
   "cell_type": "code",
   "execution_count": 9,
   "metadata": {},
   "outputs": [],
   "source": [
    "# Group data by year, zipcode, find the mean ZHVI per year per zipcode\n",
    "df = round(df.groupby(['year', 'zip_code']).ZHVI_AllHomes.mean(),2).to_frame()"
   ]
  },
  {
   "cell_type": "code",
   "execution_count": 10,
   "metadata": {},
   "outputs": [
    {
     "data": {
      "text/html": [
       "<div>\n",
       "<style scoped>\n",
       "    .dataframe tbody tr th:only-of-type {\n",
       "        vertical-align: middle;\n",
       "    }\n",
       "\n",
       "    .dataframe tbody tr th {\n",
       "        vertical-align: top;\n",
       "    }\n",
       "\n",
       "    .dataframe thead th {\n",
       "        text-align: right;\n",
       "    }\n",
       "</style>\n",
       "<table border=\"1\" class=\"dataframe\">\n",
       "  <thead>\n",
       "    <tr style=\"text-align: right;\">\n",
       "      <th></th>\n",
       "      <th></th>\n",
       "      <th>ZHVI_AllHomes</th>\n",
       "    </tr>\n",
       "    <tr>\n",
       "      <th>year</th>\n",
       "      <th>zip_code</th>\n",
       "      <th></th>\n",
       "    </tr>\n",
       "  </thead>\n",
       "  <tbody>\n",
       "    <tr>\n",
       "      <th rowspan=\"5\" valign=\"top\">2009</th>\n",
       "      <th>78610</th>\n",
       "      <td>180533.33</td>\n",
       "    </tr>\n",
       "    <tr>\n",
       "      <th>78613</th>\n",
       "      <td>190950.00</td>\n",
       "    </tr>\n",
       "    <tr>\n",
       "      <th>78617</th>\n",
       "      <td>116075.00</td>\n",
       "    </tr>\n",
       "    <tr>\n",
       "      <th>78641</th>\n",
       "      <td>153816.67</td>\n",
       "    </tr>\n",
       "    <tr>\n",
       "      <th>78664</th>\n",
       "      <td>138175.00</td>\n",
       "    </tr>\n",
       "  </tbody>\n",
       "</table>\n",
       "</div>"
      ],
      "text/plain": [
       "               ZHVI_AllHomes\n",
       "year zip_code               \n",
       "2009 78610         180533.33\n",
       "     78613         190950.00\n",
       "     78617         116075.00\n",
       "     78641         153816.67\n",
       "     78664         138175.00"
      ]
     },
     "execution_count": 10,
     "metadata": {},
     "output_type": "execute_result"
    }
   ],
   "source": [
    "# Preview\n",
    "df.head()"
   ]
  },
  {
   "cell_type": "code",
   "execution_count": 11,
   "metadata": {},
   "outputs": [],
   "source": [
    "# Save to csv\n",
    "#df.to_csv('atx_mean_zhvi_2009-2017.csv')"
   ]
  },
  {
   "cell_type": "code",
   "execution_count": 12,
   "metadata": {},
   "outputs": [],
   "source": [
    "crime_df = pd.read_csv('Crime_Reports (2).csv', dtype={'APD District': str}, low_memory=False)"
   ]
  },
  {
   "cell_type": "code",
   "execution_count": 13,
   "metadata": {},
   "outputs": [
    {
     "data": {
      "text/plain": [
       "2112338"
      ]
     },
     "execution_count": 13,
     "metadata": {},
     "output_type": "execute_result"
    }
   ],
   "source": [
    "len(crime_df)"
   ]
  },
  {
   "cell_type": "code",
   "execution_count": 14,
   "metadata": {},
   "outputs": [
    {
     "data": {
      "text/plain": [
       "Index(['Incident Number', 'Highest Offense Description',\n",
       "       'Highest Offense Code', 'Family Violence', 'Occurred Date Time',\n",
       "       'Occurred Date', 'Occurred Time', 'Report Date Time', 'Report Date',\n",
       "       'Report Time', 'Location Type', 'Address', 'Zip Code',\n",
       "       'Council District', 'APD Sector', 'APD District', 'PRA', 'Census Tract',\n",
       "       'Clearance Status', 'Clearance Date', 'UCR Category',\n",
       "       'Category Description', 'X-coordinate', 'Y-coordinate', 'Latitude',\n",
       "       'Longitude', 'Location'],\n",
       "      dtype='object')"
      ]
     },
     "execution_count": 14,
     "metadata": {},
     "output_type": "execute_result"
    }
   ],
   "source": [
    "crime_df.columns"
   ]
  },
  {
   "cell_type": "code",
   "execution_count": 15,
   "metadata": {},
   "outputs": [],
   "source": [
    "crime_df = crime_df.drop(['Incident Number', 'Occurred Date Time', 'Report Date Time',\n",
    "                          'Location Type', 'Council District','Council District', 'APD Sector',\n",
    "                          'APD District', 'PRA', 'Census Tract', 'X-coordinate', 'Y-coordinate', 'Location',\n",
    "                          'Report Date', 'Occurred Time', 'Report Time', 'UCR Category',\n",
    "                          'Category Description', 'Clearance Date', 'Highest Offense Code',\n",
    "                          'Address', 'Latitude', 'Longitude', 'Family Violence'], axis=1)"
   ]
  },
  {
   "cell_type": "code",
   "execution_count": 16,
   "metadata": {},
   "outputs": [
    {
     "data": {
      "text/html": [
       "<div>\n",
       "<style scoped>\n",
       "    .dataframe tbody tr th:only-of-type {\n",
       "        vertical-align: middle;\n",
       "    }\n",
       "\n",
       "    .dataframe tbody tr th {\n",
       "        vertical-align: top;\n",
       "    }\n",
       "\n",
       "    .dataframe thead th {\n",
       "        text-align: right;\n",
       "    }\n",
       "</style>\n",
       "<table border=\"1\" class=\"dataframe\">\n",
       "  <thead>\n",
       "    <tr style=\"text-align: right;\">\n",
       "      <th></th>\n",
       "      <th>Highest Offense Description</th>\n",
       "      <th>Occurred Date</th>\n",
       "      <th>Zip Code</th>\n",
       "      <th>Clearance Status</th>\n",
       "    </tr>\n",
       "  </thead>\n",
       "  <tbody>\n",
       "    <tr>\n",
       "      <th>0</th>\n",
       "      <td>AGG ROBBERY/DEADLY WEAPON</td>\n",
       "      <td>09/14/2017</td>\n",
       "      <td>78752.0</td>\n",
       "      <td>O</td>\n",
       "    </tr>\n",
       "    <tr>\n",
       "      <th>1</th>\n",
       "      <td>BURGLARY OF VEHICLE</td>\n",
       "      <td>10/11/2014</td>\n",
       "      <td>78701.0</td>\n",
       "      <td>N</td>\n",
       "    </tr>\n",
       "    <tr>\n",
       "      <th>2</th>\n",
       "      <td>FORGERY AND PASSING</td>\n",
       "      <td>02/11/2015</td>\n",
       "      <td>78702.0</td>\n",
       "      <td>N</td>\n",
       "    </tr>\n",
       "    <tr>\n",
       "      <th>3</th>\n",
       "      <td>POSS OF DRUG PARAPHERNALIA</td>\n",
       "      <td>10/01/2018</td>\n",
       "      <td>78759.0</td>\n",
       "      <td>N</td>\n",
       "    </tr>\n",
       "    <tr>\n",
       "      <th>4</th>\n",
       "      <td>POSS OF DRUG PARAPHERNALIA</td>\n",
       "      <td>11/23/2003</td>\n",
       "      <td>78701.0</td>\n",
       "      <td>C</td>\n",
       "    </tr>\n",
       "  </tbody>\n",
       "</table>\n",
       "</div>"
      ],
      "text/plain": [
       "  Highest Offense Description Occurred Date  Zip Code Clearance Status\n",
       "0   AGG ROBBERY/DEADLY WEAPON    09/14/2017   78752.0                O\n",
       "1         BURGLARY OF VEHICLE    10/11/2014   78701.0                N\n",
       "2         FORGERY AND PASSING    02/11/2015   78702.0                N\n",
       "3  POSS OF DRUG PARAPHERNALIA    10/01/2018   78759.0                N\n",
       "4  POSS OF DRUG PARAPHERNALIA    11/23/2003   78701.0                C"
      ]
     },
     "execution_count": 16,
     "metadata": {},
     "output_type": "execute_result"
    }
   ],
   "source": [
    "crime_df.head()"
   ]
  },
  {
   "cell_type": "code",
   "execution_count": 17,
   "metadata": {},
   "outputs": [
    {
     "data": {
      "text/html": [
       "<div>\n",
       "<style scoped>\n",
       "    .dataframe tbody tr th:only-of-type {\n",
       "        vertical-align: middle;\n",
       "    }\n",
       "\n",
       "    .dataframe tbody tr th {\n",
       "        vertical-align: top;\n",
       "    }\n",
       "\n",
       "    .dataframe thead th {\n",
       "        text-align: right;\n",
       "    }\n",
       "</style>\n",
       "<table border=\"1\" class=\"dataframe\">\n",
       "  <thead>\n",
       "    <tr style=\"text-align: right;\">\n",
       "      <th></th>\n",
       "      <th>highest_offense_description</th>\n",
       "      <th>occurred_date</th>\n",
       "      <th>zip_code</th>\n",
       "      <th>clearance_status</th>\n",
       "    </tr>\n",
       "  </thead>\n",
       "  <tbody>\n",
       "    <tr>\n",
       "      <th>0</th>\n",
       "      <td>AGG ROBBERY/DEADLY WEAPON</td>\n",
       "      <td>09/14/2017</td>\n",
       "      <td>78752.0</td>\n",
       "      <td>O</td>\n",
       "    </tr>\n",
       "    <tr>\n",
       "      <th>1</th>\n",
       "      <td>BURGLARY OF VEHICLE</td>\n",
       "      <td>10/11/2014</td>\n",
       "      <td>78701.0</td>\n",
       "      <td>N</td>\n",
       "    </tr>\n",
       "    <tr>\n",
       "      <th>2</th>\n",
       "      <td>FORGERY AND PASSING</td>\n",
       "      <td>02/11/2015</td>\n",
       "      <td>78702.0</td>\n",
       "      <td>N</td>\n",
       "    </tr>\n",
       "    <tr>\n",
       "      <th>3</th>\n",
       "      <td>POSS OF DRUG PARAPHERNALIA</td>\n",
       "      <td>10/01/2018</td>\n",
       "      <td>78759.0</td>\n",
       "      <td>N</td>\n",
       "    </tr>\n",
       "    <tr>\n",
       "      <th>4</th>\n",
       "      <td>POSS OF DRUG PARAPHERNALIA</td>\n",
       "      <td>11/23/2003</td>\n",
       "      <td>78701.0</td>\n",
       "      <td>C</td>\n",
       "    </tr>\n",
       "  </tbody>\n",
       "</table>\n",
       "</div>"
      ],
      "text/plain": [
       "  highest_offense_description occurred_date  zip_code clearance_status\n",
       "0   AGG ROBBERY/DEADLY WEAPON    09/14/2017   78752.0                O\n",
       "1         BURGLARY OF VEHICLE    10/11/2014   78701.0                N\n",
       "2         FORGERY AND PASSING    02/11/2015   78702.0                N\n",
       "3  POSS OF DRUG PARAPHERNALIA    10/01/2018   78759.0                N\n",
       "4  POSS OF DRUG PARAPHERNALIA    11/23/2003   78701.0                C"
      ]
     },
     "execution_count": 17,
     "metadata": {},
     "output_type": "execute_result"
    }
   ],
   "source": [
    "crime_df = crime_df.rename(index=str, columns={\"Highest Offense Description\": \"highest_offense_description\",\n",
    "                                               \"Occurred Date\": \"occurred_date\",\n",
    "                                               \"Address\": \"address\",\n",
    "                                               \"Zip Code\": \"zip_code\",\n",
    "                                               \"Clearance Status\": \"clearance_status\"})\n",
    "crime_df.head()"
   ]
  },
  {
   "cell_type": "code",
   "execution_count": 18,
   "metadata": {},
   "outputs": [
    {
     "data": {
      "text/html": [
       "<div>\n",
       "<style scoped>\n",
       "    .dataframe tbody tr th:only-of-type {\n",
       "        vertical-align: middle;\n",
       "    }\n",
       "\n",
       "    .dataframe tbody tr th {\n",
       "        vertical-align: top;\n",
       "    }\n",
       "\n",
       "    .dataframe thead th {\n",
       "        text-align: right;\n",
       "    }\n",
       "</style>\n",
       "<table border=\"1\" class=\"dataframe\">\n",
       "  <thead>\n",
       "    <tr style=\"text-align: right;\">\n",
       "      <th></th>\n",
       "      <th>highest_offense_description</th>\n",
       "      <th>occurred_date</th>\n",
       "      <th>zip_code</th>\n",
       "      <th>clearance_status</th>\n",
       "      <th>year</th>\n",
       "    </tr>\n",
       "  </thead>\n",
       "  <tbody>\n",
       "    <tr>\n",
       "      <th>0</th>\n",
       "      <td>AGG ROBBERY/DEADLY WEAPON</td>\n",
       "      <td>09/14/2017</td>\n",
       "      <td>78752.0</td>\n",
       "      <td>O</td>\n",
       "      <td>2017</td>\n",
       "    </tr>\n",
       "    <tr>\n",
       "      <th>1</th>\n",
       "      <td>BURGLARY OF VEHICLE</td>\n",
       "      <td>10/11/2014</td>\n",
       "      <td>78701.0</td>\n",
       "      <td>N</td>\n",
       "      <td>2014</td>\n",
       "    </tr>\n",
       "    <tr>\n",
       "      <th>2</th>\n",
       "      <td>FORGERY AND PASSING</td>\n",
       "      <td>02/11/2015</td>\n",
       "      <td>78702.0</td>\n",
       "      <td>N</td>\n",
       "      <td>2015</td>\n",
       "    </tr>\n",
       "    <tr>\n",
       "      <th>3</th>\n",
       "      <td>POSS OF DRUG PARAPHERNALIA</td>\n",
       "      <td>10/01/2018</td>\n",
       "      <td>78759.0</td>\n",
       "      <td>N</td>\n",
       "      <td>2018</td>\n",
       "    </tr>\n",
       "    <tr>\n",
       "      <th>4</th>\n",
       "      <td>POSS OF DRUG PARAPHERNALIA</td>\n",
       "      <td>11/23/2003</td>\n",
       "      <td>78701.0</td>\n",
       "      <td>C</td>\n",
       "      <td>2003</td>\n",
       "    </tr>\n",
       "  </tbody>\n",
       "</table>\n",
       "</div>"
      ],
      "text/plain": [
       "  highest_offense_description occurred_date  zip_code clearance_status  year\n",
       "0   AGG ROBBERY/DEADLY WEAPON    09/14/2017   78752.0                O  2017\n",
       "1         BURGLARY OF VEHICLE    10/11/2014   78701.0                N  2014\n",
       "2         FORGERY AND PASSING    02/11/2015   78702.0                N  2015\n",
       "3  POSS OF DRUG PARAPHERNALIA    10/01/2018   78759.0                N  2018\n",
       "4  POSS OF DRUG PARAPHERNALIA    11/23/2003   78701.0                C  2003"
      ]
     },
     "execution_count": 18,
     "metadata": {},
     "output_type": "execute_result"
    }
   ],
   "source": [
    "crime_df['year'] = crime_df['occurred_date'].apply(lambda d : int(d[-4:]))\n",
    "crime_df.head()"
   ]
  },
  {
   "cell_type": "code",
   "execution_count": 19,
   "metadata": {},
   "outputs": [
    {
     "data": {
      "text/plain": [
       "1275108"
      ]
     },
     "execution_count": 19,
     "metadata": {},
     "output_type": "execute_result"
    }
   ],
   "source": [
    "crime_df = crime_df[crime_df.year >= 2009]\n",
    "len(crime_df)"
   ]
  },
  {
   "cell_type": "code",
   "execution_count": 20,
   "metadata": {},
   "outputs": [
    {
     "data": {
      "text/plain": [
       "1157288"
      ]
     },
     "execution_count": 20,
     "metadata": {},
     "output_type": "execute_result"
    }
   ],
   "source": [
    "crime_df = crime_df[crime_df.year <= 2017]\n",
    "len(crime_df)"
   ]
  },
  {
   "cell_type": "code",
   "execution_count": 21,
   "metadata": {},
   "outputs": [
    {
     "data": {
      "text/html": [
       "<div>\n",
       "<style scoped>\n",
       "    .dataframe tbody tr th:only-of-type {\n",
       "        vertical-align: middle;\n",
       "    }\n",
       "\n",
       "    .dataframe tbody tr th {\n",
       "        vertical-align: top;\n",
       "    }\n",
       "\n",
       "    .dataframe thead th {\n",
       "        text-align: right;\n",
       "    }\n",
       "</style>\n",
       "<table border=\"1\" class=\"dataframe\">\n",
       "  <thead>\n",
       "    <tr style=\"text-align: right;\">\n",
       "      <th></th>\n",
       "      <th>highest_offense_description</th>\n",
       "      <th>occurred_date</th>\n",
       "      <th>zip_code</th>\n",
       "      <th>clearance_status</th>\n",
       "      <th>year</th>\n",
       "    </tr>\n",
       "  </thead>\n",
       "  <tbody>\n",
       "    <tr>\n",
       "      <th>0</th>\n",
       "      <td>AGG ROBBERY/DEADLY WEAPON</td>\n",
       "      <td>09/14/2017</td>\n",
       "      <td>78752.0</td>\n",
       "      <td>O</td>\n",
       "      <td>2017</td>\n",
       "    </tr>\n",
       "    <tr>\n",
       "      <th>1</th>\n",
       "      <td>BURGLARY OF VEHICLE</td>\n",
       "      <td>10/11/2014</td>\n",
       "      <td>78701.0</td>\n",
       "      <td>N</td>\n",
       "      <td>2014</td>\n",
       "    </tr>\n",
       "    <tr>\n",
       "      <th>2</th>\n",
       "      <td>FORGERY AND PASSING</td>\n",
       "      <td>02/11/2015</td>\n",
       "      <td>78702.0</td>\n",
       "      <td>N</td>\n",
       "      <td>2015</td>\n",
       "    </tr>\n",
       "    <tr>\n",
       "      <th>5</th>\n",
       "      <td>AUTO THEFT</td>\n",
       "      <td>07/07/2015</td>\n",
       "      <td>78759.0</td>\n",
       "      <td>N</td>\n",
       "      <td>2015</td>\n",
       "    </tr>\n",
       "    <tr>\n",
       "      <th>6</th>\n",
       "      <td>BURGLARY OF RESIDENCE</td>\n",
       "      <td>05/11/2013</td>\n",
       "      <td>78741.0</td>\n",
       "      <td>N</td>\n",
       "      <td>2013</td>\n",
       "    </tr>\n",
       "  </tbody>\n",
       "</table>\n",
       "</div>"
      ],
      "text/plain": [
       "  highest_offense_description occurred_date  zip_code clearance_status  year\n",
       "0   AGG ROBBERY/DEADLY WEAPON    09/14/2017   78752.0                O  2017\n",
       "1         BURGLARY OF VEHICLE    10/11/2014   78701.0                N  2014\n",
       "2         FORGERY AND PASSING    02/11/2015   78702.0                N  2015\n",
       "5                  AUTO THEFT    07/07/2015   78759.0                N  2015\n",
       "6       BURGLARY OF RESIDENCE    05/11/2013   78741.0                N  2013"
      ]
     },
     "execution_count": 21,
     "metadata": {},
     "output_type": "execute_result"
    }
   ],
   "source": [
    "crime_df.head()"
   ]
  },
  {
   "cell_type": "code",
   "execution_count": 22,
   "metadata": {},
   "outputs": [
    {
     "data": {
      "text/plain": [
       "highest_offense_description    1157288\n",
       "occurred_date                  1157288\n",
       "zip_code                       1151277\n",
       "clearance_status               1017109\n",
       "year                           1157288\n",
       "dtype: int64"
      ]
     },
     "execution_count": 22,
     "metadata": {},
     "output_type": "execute_result"
    }
   ],
   "source": [
    "crime_df.count()"
   ]
  },
  {
   "cell_type": "code",
   "execution_count": 23,
   "metadata": {},
   "outputs": [],
   "source": [
    "crime_df = crime_df.dropna()"
   ]
  },
  {
   "cell_type": "code",
   "execution_count": 24,
   "metadata": {},
   "outputs": [
    {
     "data": {
      "text/plain": [
       "1012269"
      ]
     },
     "execution_count": 24,
     "metadata": {},
     "output_type": "execute_result"
    }
   ],
   "source": [
    "len(crime_df)"
   ]
  },
  {
   "cell_type": "code",
   "execution_count": 25,
   "metadata": {},
   "outputs": [
    {
     "data": {
      "text/plain": [
       "highest_offense_description    1012269\n",
       "occurred_date                  1012269\n",
       "zip_code                       1012269\n",
       "clearance_status               1012269\n",
       "year                           1012269\n",
       "dtype: int64"
      ]
     },
     "execution_count": 25,
     "metadata": {},
     "output_type": "execute_result"
    }
   ],
   "source": [
    "crime_df.count()"
   ]
  },
  {
   "cell_type": "code",
   "execution_count": 26,
   "metadata": {},
   "outputs": [],
   "source": [
    "#crime_df['zip_code'] = crime_df.zip_code.astype(int).astype(str)"
   ]
  },
  {
   "cell_type": "code",
   "execution_count": 27,
   "metadata": {},
   "outputs": [
    {
     "data": {
      "text/plain": [
       "highest_offense_description     object\n",
       "occurred_date                   object\n",
       "zip_code                       float64\n",
       "clearance_status                object\n",
       "year                             int64\n",
       "dtype: object"
      ]
     },
     "execution_count": 27,
     "metadata": {},
     "output_type": "execute_result"
    }
   ],
   "source": [
    "crime_df.dtypes"
   ]
  },
  {
   "cell_type": "code",
   "execution_count": 28,
   "metadata": {},
   "outputs": [
    {
     "data": {
      "text/html": [
       "<div>\n",
       "<style scoped>\n",
       "    .dataframe tbody tr th:only-of-type {\n",
       "        vertical-align: middle;\n",
       "    }\n",
       "\n",
       "    .dataframe tbody tr th {\n",
       "        vertical-align: top;\n",
       "    }\n",
       "\n",
       "    .dataframe thead th {\n",
       "        text-align: right;\n",
       "    }\n",
       "</style>\n",
       "<table border=\"1\" class=\"dataframe\">\n",
       "  <thead>\n",
       "    <tr style=\"text-align: right;\">\n",
       "      <th></th>\n",
       "      <th>highest_offense_description</th>\n",
       "      <th>occurred_date</th>\n",
       "      <th>zip_code</th>\n",
       "      <th>clearance_status</th>\n",
       "      <th>year</th>\n",
       "    </tr>\n",
       "  </thead>\n",
       "  <tbody>\n",
       "    <tr>\n",
       "      <th>0</th>\n",
       "      <td>AGG ROBBERY/DEADLY WEAPON</td>\n",
       "      <td>09/14/2017</td>\n",
       "      <td>78752.0</td>\n",
       "      <td>O</td>\n",
       "      <td>2017</td>\n",
       "    </tr>\n",
       "    <tr>\n",
       "      <th>1</th>\n",
       "      <td>BURGLARY OF VEHICLE</td>\n",
       "      <td>10/11/2014</td>\n",
       "      <td>78701.0</td>\n",
       "      <td>N</td>\n",
       "      <td>2014</td>\n",
       "    </tr>\n",
       "    <tr>\n",
       "      <th>2</th>\n",
       "      <td>FORGERY AND PASSING</td>\n",
       "      <td>02/11/2015</td>\n",
       "      <td>78702.0</td>\n",
       "      <td>N</td>\n",
       "      <td>2015</td>\n",
       "    </tr>\n",
       "    <tr>\n",
       "      <th>5</th>\n",
       "      <td>AUTO THEFT</td>\n",
       "      <td>07/07/2015</td>\n",
       "      <td>78759.0</td>\n",
       "      <td>N</td>\n",
       "      <td>2015</td>\n",
       "    </tr>\n",
       "    <tr>\n",
       "      <th>6</th>\n",
       "      <td>BURGLARY OF RESIDENCE</td>\n",
       "      <td>05/11/2013</td>\n",
       "      <td>78741.0</td>\n",
       "      <td>N</td>\n",
       "      <td>2013</td>\n",
       "    </tr>\n",
       "  </tbody>\n",
       "</table>\n",
       "</div>"
      ],
      "text/plain": [
       "  highest_offense_description occurred_date  zip_code clearance_status  year\n",
       "0   AGG ROBBERY/DEADLY WEAPON    09/14/2017   78752.0                O  2017\n",
       "1         BURGLARY OF VEHICLE    10/11/2014   78701.0                N  2014\n",
       "2         FORGERY AND PASSING    02/11/2015   78702.0                N  2015\n",
       "5                  AUTO THEFT    07/07/2015   78759.0                N  2015\n",
       "6       BURGLARY OF RESIDENCE    05/11/2013   78741.0                N  2013"
      ]
     },
     "execution_count": 28,
     "metadata": {},
     "output_type": "execute_result"
    }
   ],
   "source": [
    "crime_df.head()"
   ]
  },
  {
   "cell_type": "code",
   "execution_count": 29,
   "metadata": {},
   "outputs": [],
   "source": [
    "#atx_zip_codes2 = ['78610', '78613', '78617', '78641', '78664', '78681', '78701', '78702', '78703', '78704', '78717',\n",
    "                 #'78721', '78722', '78723', '78725', '78726', '78727', '78728', '78729', '78731', '78733', '78735',\n",
    "                 #'78736', '78738', '78739', '78741', '78744', '78745', '78746', '78748', '78749', '78751', '78752',\n",
    "                 #'78753', '78756', '78757', '78758', '78759']\n",
    "#crime_df = crime_df[crime_df['zip_code'].isin(atx_zip_codes2)]\n",
    "#crime_df.head()"
   ]
  },
  {
   "cell_type": "code",
   "execution_count": 30,
   "metadata": {},
   "outputs": [],
   "source": [
    "crime_df = crime_df[[(x in atx_zip_codes) for x in crime_df['zip_code']]]"
   ]
  },
  {
   "cell_type": "code",
   "execution_count": 31,
   "metadata": {},
   "outputs": [
    {
     "data": {
      "text/html": [
       "<div>\n",
       "<style scoped>\n",
       "    .dataframe tbody tr th:only-of-type {\n",
       "        vertical-align: middle;\n",
       "    }\n",
       "\n",
       "    .dataframe tbody tr th {\n",
       "        vertical-align: top;\n",
       "    }\n",
       "\n",
       "    .dataframe thead th {\n",
       "        text-align: right;\n",
       "    }\n",
       "</style>\n",
       "<table border=\"1\" class=\"dataframe\">\n",
       "  <thead>\n",
       "    <tr style=\"text-align: right;\">\n",
       "      <th></th>\n",
       "      <th>highest_offense_description</th>\n",
       "      <th>occurred_date</th>\n",
       "      <th>zip_code</th>\n",
       "      <th>clearance_status</th>\n",
       "      <th>year</th>\n",
       "    </tr>\n",
       "  </thead>\n",
       "  <tbody>\n",
       "    <tr>\n",
       "      <th>0</th>\n",
       "      <td>AGG ROBBERY/DEADLY WEAPON</td>\n",
       "      <td>09/14/2017</td>\n",
       "      <td>78752.0</td>\n",
       "      <td>O</td>\n",
       "      <td>2017</td>\n",
       "    </tr>\n",
       "    <tr>\n",
       "      <th>1</th>\n",
       "      <td>BURGLARY OF VEHICLE</td>\n",
       "      <td>10/11/2014</td>\n",
       "      <td>78701.0</td>\n",
       "      <td>N</td>\n",
       "      <td>2014</td>\n",
       "    </tr>\n",
       "    <tr>\n",
       "      <th>2</th>\n",
       "      <td>FORGERY AND PASSING</td>\n",
       "      <td>02/11/2015</td>\n",
       "      <td>78702.0</td>\n",
       "      <td>N</td>\n",
       "      <td>2015</td>\n",
       "    </tr>\n",
       "    <tr>\n",
       "      <th>5</th>\n",
       "      <td>AUTO THEFT</td>\n",
       "      <td>07/07/2015</td>\n",
       "      <td>78759.0</td>\n",
       "      <td>N</td>\n",
       "      <td>2015</td>\n",
       "    </tr>\n",
       "    <tr>\n",
       "      <th>6</th>\n",
       "      <td>BURGLARY OF RESIDENCE</td>\n",
       "      <td>05/11/2013</td>\n",
       "      <td>78741.0</td>\n",
       "      <td>N</td>\n",
       "      <td>2013</td>\n",
       "    </tr>\n",
       "  </tbody>\n",
       "</table>\n",
       "</div>"
      ],
      "text/plain": [
       "  highest_offense_description occurred_date  zip_code clearance_status  year\n",
       "0   AGG ROBBERY/DEADLY WEAPON    09/14/2017   78752.0                O  2017\n",
       "1         BURGLARY OF VEHICLE    10/11/2014   78701.0                N  2014\n",
       "2         FORGERY AND PASSING    02/11/2015   78702.0                N  2015\n",
       "5                  AUTO THEFT    07/07/2015   78759.0                N  2015\n",
       "6       BURGLARY OF RESIDENCE    05/11/2013   78741.0                N  2013"
      ]
     },
     "execution_count": 31,
     "metadata": {},
     "output_type": "execute_result"
    }
   ],
   "source": [
    "crime_df.head()"
   ]
  },
  {
   "cell_type": "code",
   "execution_count": null,
   "metadata": {},
   "outputs": [],
   "source": []
  }
 ],
 "metadata": {
  "kernelspec": {
   "display_name": "Python 3",
   "language": "python",
   "name": "python3"
  },
  "language_info": {
   "codemirror_mode": {
    "name": "ipython",
    "version": 3
   },
   "file_extension": ".py",
   "mimetype": "text/x-python",
   "name": "python",
   "nbconvert_exporter": "python",
   "pygments_lexer": "ipython3",
   "version": "3.7.1"
  }
 },
 "nbformat": 4,
 "nbformat_minor": 2
}
